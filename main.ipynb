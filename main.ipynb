{
 "cells": [
  {
   "cell_type": "markdown",
   "id": "19ba0ead-a81f-49ab-81b8-7de69a265d6e",
   "metadata": {
    "jp-MarkdownHeadingCollapsed": true
   },
   "source": [
    "## Imports"
   ]
  },
  {
   "cell_type": "code",
   "execution_count": 1,
   "id": "beb994d3-d2d6-4a76-92f3-1e17a9edf1bf",
   "metadata": {
    "scrolled": true
   },
   "outputs": [
    {
     "name": "stdout",
     "output_type": "stream",
     "text": [
      "Requirement already satisfied: pinecone-client in /opt/homebrew/Caskroom/miniforge/base/envs/data-science/lib/python3.12/site-packages (3.0.3)\n",
      "Requirement already satisfied: datasets in /opt/homebrew/Caskroom/miniforge/base/envs/data-science/lib/python3.12/site-packages (2.17.0)\n",
      "Requirement already satisfied: PyTDC in /opt/homebrew/Caskroom/miniforge/base/envs/data-science/lib/python3.12/site-packages (0.3.6)\n",
      "Requirement already satisfied: rdkit in /opt/homebrew/Caskroom/miniforge/base/envs/data-science/lib/python3.12/site-packages (2023.9.5)\n",
      "Requirement already satisfied: datamol in /opt/homebrew/Caskroom/miniforge/base/envs/data-science/lib/python3.12/site-packages (0.12.4)\n",
      "Requirement already satisfied: pandas in /opt/homebrew/Caskroom/miniforge/base/envs/data-science/lib/python3.12/site-packages (2.2.0)\n",
      "Requirement already satisfied: numpy in /opt/homebrew/Caskroom/miniforge/base/envs/data-science/lib/python3.12/site-packages (1.26.4)\n",
      "Requirement already satisfied: molfeat in /opt/homebrew/Caskroom/miniforge/base/envs/data-science/lib/python3.12/site-packages (0.10.0)\n",
      "Requirement already satisfied: mols2grid in /opt/homebrew/Caskroom/miniforge/base/envs/data-science/lib/python3.12/site-packages (2.0.0)\n",
      "Requirement already satisfied: certifi>=2019.11.17 in /opt/homebrew/Caskroom/miniforge/base/envs/data-science/lib/python3.12/site-packages (from pinecone-client) (2023.7.22)\n",
      "Requirement already satisfied: tqdm>=4.64.1 in /opt/homebrew/Caskroom/miniforge/base/envs/data-science/lib/python3.12/site-packages (from pinecone-client) (4.66.2)\n",
      "Requirement already satisfied: typing-extensions>=3.7.4 in /opt/homebrew/Caskroom/miniforge/base/envs/data-science/lib/python3.12/site-packages (from pinecone-client) (4.9.0)\n",
      "Requirement already satisfied: urllib3>=1.26.0 in /opt/homebrew/Caskroom/miniforge/base/envs/data-science/lib/python3.12/site-packages (from pinecone-client) (2.0.7)\n",
      "Requirement already satisfied: filelock in /opt/homebrew/Caskroom/miniforge/base/envs/data-science/lib/python3.12/site-packages (from datasets) (3.13.1)\n",
      "Requirement already satisfied: pyarrow>=12.0.0 in /opt/homebrew/Caskroom/miniforge/base/envs/data-science/lib/python3.12/site-packages (from datasets) (15.0.0)\n",
      "Requirement already satisfied: pyarrow-hotfix in /opt/homebrew/Caskroom/miniforge/base/envs/data-science/lib/python3.12/site-packages (from datasets) (0.6)\n",
      "Requirement already satisfied: dill<0.3.9,>=0.3.0 in /opt/homebrew/Caskroom/miniforge/base/envs/data-science/lib/python3.12/site-packages (from datasets) (0.3.8)\n",
      "Requirement already satisfied: requests>=2.19.0 in /opt/homebrew/Caskroom/miniforge/base/envs/data-science/lib/python3.12/site-packages (from datasets) (2.31.0)\n",
      "Requirement already satisfied: xxhash in /opt/homebrew/Caskroom/miniforge/base/envs/data-science/lib/python3.12/site-packages (from datasets) (3.4.1)\n",
      "Requirement already satisfied: multiprocess in /opt/homebrew/Caskroom/miniforge/base/envs/data-science/lib/python3.12/site-packages (from datasets) (0.70.16)\n",
      "Requirement already satisfied: fsspec<=2023.10.0,>=2023.1.0 in /opt/homebrew/Caskroom/miniforge/base/envs/data-science/lib/python3.12/site-packages (from fsspec[http]<=2023.10.0,>=2023.1.0->datasets) (2023.10.0)\n",
      "Requirement already satisfied: aiohttp in /opt/homebrew/Caskroom/miniforge/base/envs/data-science/lib/python3.12/site-packages (from datasets) (3.9.3)\n",
      "Requirement already satisfied: huggingface-hub>=0.19.4 in /opt/homebrew/Caskroom/miniforge/base/envs/data-science/lib/python3.12/site-packages (from datasets) (0.20.3)\n",
      "Requirement already satisfied: packaging in /opt/homebrew/Caskroom/miniforge/base/envs/data-science/lib/python3.12/site-packages (from datasets) (23.2)\n",
      "Requirement already satisfied: pyyaml>=5.1 in /opt/homebrew/Caskroom/miniforge/base/envs/data-science/lib/python3.12/site-packages (from datasets) (6.0.1)\n",
      "Requirement already satisfied: fuzzywuzzy in /opt/homebrew/Caskroom/miniforge/base/envs/data-science/lib/python3.12/site-packages (from PyTDC) (0.18.0)\n",
      "Requirement already satisfied: scikit-learn in /opt/homebrew/Caskroom/miniforge/base/envs/data-science/lib/python3.12/site-packages (from PyTDC) (1.4.1.post1)\n",
      "Requirement already satisfied: seaborn in /opt/homebrew/Caskroom/miniforge/base/envs/data-science/lib/python3.12/site-packages (from PyTDC) (0.13.2)\n",
      "Requirement already satisfied: Pillow in /opt/homebrew/Caskroom/miniforge/base/envs/data-science/lib/python3.12/site-packages (from rdkit) (10.2.0)\n",
      "Requirement already satisfied: loguru in /opt/homebrew/Caskroom/miniforge/base/envs/data-science/lib/python3.12/site-packages (from datamol) (0.7.2)\n",
      "Requirement already satisfied: joblib in /opt/homebrew/Caskroom/miniforge/base/envs/data-science/lib/python3.12/site-packages (from datamol) (1.3.2)\n",
      "Requirement already satisfied: scipy in /opt/homebrew/Caskroom/miniforge/base/envs/data-science/lib/python3.12/site-packages (from datamol) (1.12.0)\n",
      "Requirement already satisfied: matplotlib in /opt/homebrew/Caskroom/miniforge/base/envs/data-science/lib/python3.12/site-packages (from datamol) (3.8.3)\n",
      "Requirement already satisfied: selfies in /opt/homebrew/Caskroom/miniforge/base/envs/data-science/lib/python3.12/site-packages (from datamol) (2.1.1)\n",
      "Requirement already satisfied: platformdirs in /opt/homebrew/Caskroom/miniforge/base/envs/data-science/lib/python3.12/site-packages (from datamol) (4.2.0)\n",
      "Requirement already satisfied: importlib-resources in /opt/homebrew/Caskroom/miniforge/base/envs/data-science/lib/python3.12/site-packages (from datamol) (6.1.1)\n",
      "Requirement already satisfied: python-dateutil>=2.8.2 in /opt/homebrew/Caskroom/miniforge/base/envs/data-science/lib/python3.12/site-packages (from pandas) (2.8.2)\n",
      "Requirement already satisfied: pytz>=2020.1 in /opt/homebrew/Caskroom/miniforge/base/envs/data-science/lib/python3.12/site-packages (from pandas) (2024.1)\n",
      "Requirement already satisfied: tzdata>=2022.7 in /opt/homebrew/Caskroom/miniforge/base/envs/data-science/lib/python3.12/site-packages (from pandas) (2024.1)\n",
      "Requirement already satisfied: s3fs>=2021.9 in /opt/homebrew/Caskroom/miniforge/base/envs/data-science/lib/python3.12/site-packages (from molfeat) (2023.10.0)\n",
      "Requirement already satisfied: gcsfs>=2021.9 in /opt/homebrew/Caskroom/miniforge/base/envs/data-science/lib/python3.12/site-packages (from molfeat) (2023.10.0)\n",
      "Requirement already satisfied: torch>=1.13 in /opt/homebrew/Caskroom/miniforge/base/envs/data-science/lib/python3.12/site-packages (from molfeat) (2.2.0)\n",
      "Requirement already satisfied: h5py in /opt/homebrew/Caskroom/miniforge/base/envs/data-science/lib/python3.12/site-packages (from molfeat) (3.10.0)\n",
      "Requirement already satisfied: pydantic>=2.0.0 in /opt/homebrew/Caskroom/miniforge/base/envs/data-science/lib/python3.12/site-packages (from molfeat) (2.6.1)\n",
      "Requirement already satisfied: pmapper in /opt/homebrew/Caskroom/miniforge/base/envs/data-science/lib/python3.12/site-packages (from molfeat) (1.0.4)\n",
      "Requirement already satisfied: mordredcommunity in /opt/homebrew/Caskroom/miniforge/base/envs/data-science/lib/python3.12/site-packages (from molfeat) (2.0.4)\n",
      "Requirement already satisfied: python-dotenv in /opt/homebrew/Caskroom/miniforge/base/envs/data-science/lib/python3.12/site-packages (from molfeat) (1.0.1)\n",
      "Requirement already satisfied: ipywidgets<8,>=7 in /opt/homebrew/Caskroom/miniforge/base/envs/data-science/lib/python3.12/site-packages (from mols2grid) (7.8.1)\n",
      "Requirement already satisfied: jinja2>=2.11.0 in /opt/homebrew/Caskroom/miniforge/base/envs/data-science/lib/python3.12/site-packages (from mols2grid) (3.1.3)\n",
      "Requirement already satisfied: aiosignal>=1.1.2 in /opt/homebrew/Caskroom/miniforge/base/envs/data-science/lib/python3.12/site-packages (from aiohttp->datasets) (1.3.1)\n",
      "Requirement already satisfied: attrs>=17.3.0 in /opt/homebrew/Caskroom/miniforge/base/envs/data-science/lib/python3.12/site-packages (from aiohttp->datasets) (23.2.0)\n",
      "Requirement already satisfied: frozenlist>=1.1.1 in /opt/homebrew/Caskroom/miniforge/base/envs/data-science/lib/python3.12/site-packages (from aiohttp->datasets) (1.4.1)\n",
      "Requirement already satisfied: multidict<7.0,>=4.5 in /opt/homebrew/Caskroom/miniforge/base/envs/data-science/lib/python3.12/site-packages (from aiohttp->datasets) (6.0.5)\n",
      "Requirement already satisfied: yarl<2.0,>=1.0 in /opt/homebrew/Caskroom/miniforge/base/envs/data-science/lib/python3.12/site-packages (from aiohttp->datasets) (1.9.4)\n",
      "Requirement already satisfied: decorator>4.1.2 in /opt/homebrew/Caskroom/miniforge/base/envs/data-science/lib/python3.12/site-packages (from gcsfs>=2021.9->molfeat) (5.1.1)\n",
      "Requirement already satisfied: google-auth>=1.2 in /opt/homebrew/Caskroom/miniforge/base/envs/data-science/lib/python3.12/site-packages (from gcsfs>=2021.9->molfeat) (2.28.0)\n",
      "Requirement already satisfied: google-auth-oauthlib in /opt/homebrew/Caskroom/miniforge/base/envs/data-science/lib/python3.12/site-packages (from gcsfs>=2021.9->molfeat) (1.2.0)\n",
      "Requirement already satisfied: google-cloud-storage in /opt/homebrew/Caskroom/miniforge/base/envs/data-science/lib/python3.12/site-packages (from gcsfs>=2021.9->molfeat) (2.14.0)\n",
      "Requirement already satisfied: comm>=0.1.3 in /opt/homebrew/Caskroom/miniforge/base/envs/data-science/lib/python3.12/site-packages (from ipywidgets<8,>=7->mols2grid) (0.2.1)\n",
      "Requirement already satisfied: ipython-genutils~=0.2.0 in /opt/homebrew/Caskroom/miniforge/base/envs/data-science/lib/python3.12/site-packages (from ipywidgets<8,>=7->mols2grid) (0.2.0)\n",
      "Requirement already satisfied: traitlets>=4.3.1 in /opt/homebrew/Caskroom/miniforge/base/envs/data-science/lib/python3.12/site-packages (from ipywidgets<8,>=7->mols2grid) (5.14.1)\n",
      "Requirement already satisfied: widgetsnbextension~=3.6.6 in /opt/homebrew/Caskroom/miniforge/base/envs/data-science/lib/python3.12/site-packages (from ipywidgets<8,>=7->mols2grid) (3.6.6)\n",
      "Requirement already satisfied: ipython>=4.0.0 in /opt/homebrew/Caskroom/miniforge/base/envs/data-science/lib/python3.12/site-packages (from ipywidgets<8,>=7->mols2grid) (8.21.0)\n",
      "Requirement already satisfied: jupyterlab-widgets<3,>=1.0.0 in /opt/homebrew/Caskroom/miniforge/base/envs/data-science/lib/python3.12/site-packages (from ipywidgets<8,>=7->mols2grid) (1.1.7)\n",
      "Requirement already satisfied: MarkupSafe>=2.0 in /opt/homebrew/Caskroom/miniforge/base/envs/data-science/lib/python3.12/site-packages (from jinja2>=2.11.0->mols2grid) (2.1.5)\n",
      "Requirement already satisfied: annotated-types>=0.4.0 in /opt/homebrew/Caskroom/miniforge/base/envs/data-science/lib/python3.12/site-packages (from pydantic>=2.0.0->molfeat) (0.6.0)\n",
      "Requirement already satisfied: pydantic-core==2.16.2 in /opt/homebrew/Caskroom/miniforge/base/envs/data-science/lib/python3.12/site-packages (from pydantic>=2.0.0->molfeat) (2.16.2)\n",
      "Requirement already satisfied: six>=1.5 in /opt/homebrew/Caskroom/miniforge/base/envs/data-science/lib/python3.12/site-packages (from python-dateutil>=2.8.2->pandas) (1.16.0)\n",
      "Requirement already satisfied: charset-normalizer<4,>=2 in /opt/homebrew/Caskroom/miniforge/base/envs/data-science/lib/python3.12/site-packages (from requests>=2.19.0->datasets) (3.3.2)\n",
      "Requirement already satisfied: idna<4,>=2.5 in /opt/homebrew/Caskroom/miniforge/base/envs/data-science/lib/python3.12/site-packages (from requests>=2.19.0->datasets) (3.6)\n",
      "Requirement already satisfied: aiobotocore~=2.7.0 in /opt/homebrew/Caskroom/miniforge/base/envs/data-science/lib/python3.12/site-packages (from s3fs>=2021.9->molfeat) (2.7.0)\n",
      "Requirement already satisfied: sympy in /opt/homebrew/Caskroom/miniforge/base/envs/data-science/lib/python3.12/site-packages (from torch>=1.13->molfeat) (1.12)\n",
      "Requirement already satisfied: networkx in /opt/homebrew/Caskroom/miniforge/base/envs/data-science/lib/python3.12/site-packages (from torch>=1.13->molfeat) (3.2.1)\n",
      "Requirement already satisfied: contourpy>=1.0.1 in /opt/homebrew/Caskroom/miniforge/base/envs/data-science/lib/python3.12/site-packages (from matplotlib->datamol) (1.2.0)\n",
      "Requirement already satisfied: cycler>=0.10 in /opt/homebrew/Caskroom/miniforge/base/envs/data-science/lib/python3.12/site-packages (from matplotlib->datamol) (0.12.1)\n",
      "Requirement already satisfied: fonttools>=4.22.0 in /opt/homebrew/Caskroom/miniforge/base/envs/data-science/lib/python3.12/site-packages (from matplotlib->datamol) (4.49.0)\n",
      "Requirement already satisfied: kiwisolver>=1.3.1 in /opt/homebrew/Caskroom/miniforge/base/envs/data-science/lib/python3.12/site-packages (from matplotlib->datamol) (1.4.5)\n",
      "Requirement already satisfied: pyparsing>=2.3.1 in /opt/homebrew/Caskroom/miniforge/base/envs/data-science/lib/python3.12/site-packages (from matplotlib->datamol) (3.1.1)\n",
      "Requirement already satisfied: threadpoolctl>=2.0.0 in /opt/homebrew/Caskroom/miniforge/base/envs/data-science/lib/python3.12/site-packages (from scikit-learn->PyTDC) (3.3.0)\n",
      "Requirement already satisfied: botocore<1.31.65,>=1.31.16 in /opt/homebrew/Caskroom/miniforge/base/envs/data-science/lib/python3.12/site-packages (from aiobotocore~=2.7.0->s3fs>=2021.9->molfeat) (1.31.64)\n",
      "Requirement already satisfied: wrapt<2.0.0,>=1.10.10 in /opt/homebrew/Caskroom/miniforge/base/envs/data-science/lib/python3.12/site-packages (from aiobotocore~=2.7.0->s3fs>=2021.9->molfeat) (1.16.0)\n",
      "Requirement already satisfied: aioitertools<1.0.0,>=0.5.1 in /opt/homebrew/Caskroom/miniforge/base/envs/data-science/lib/python3.12/site-packages (from aiobotocore~=2.7.0->s3fs>=2021.9->molfeat) (0.11.0)\n",
      "Requirement already satisfied: cachetools<6.0,>=2.0.0 in /opt/homebrew/Caskroom/miniforge/base/envs/data-science/lib/python3.12/site-packages (from google-auth>=1.2->gcsfs>=2021.9->molfeat) (5.3.2)\n",
      "Requirement already satisfied: pyasn1-modules>=0.2.1 in /opt/homebrew/Caskroom/miniforge/base/envs/data-science/lib/python3.12/site-packages (from google-auth>=1.2->gcsfs>=2021.9->molfeat) (0.3.0)\n",
      "Requirement already satisfied: rsa<5,>=3.1.4 in /opt/homebrew/Caskroom/miniforge/base/envs/data-science/lib/python3.12/site-packages (from google-auth>=1.2->gcsfs>=2021.9->molfeat) (4.9)\n",
      "Requirement already satisfied: jedi>=0.16 in /opt/homebrew/Caskroom/miniforge/base/envs/data-science/lib/python3.12/site-packages (from ipython>=4.0.0->ipywidgets<8,>=7->mols2grid) (0.19.1)\n",
      "Requirement already satisfied: matplotlib-inline in /opt/homebrew/Caskroom/miniforge/base/envs/data-science/lib/python3.12/site-packages (from ipython>=4.0.0->ipywidgets<8,>=7->mols2grid) (0.1.6)\n",
      "Requirement already satisfied: prompt-toolkit<3.1.0,>=3.0.41 in /opt/homebrew/Caskroom/miniforge/base/envs/data-science/lib/python3.12/site-packages (from ipython>=4.0.0->ipywidgets<8,>=7->mols2grid) (3.0.42)\n",
      "Requirement already satisfied: pygments>=2.4.0 in /opt/homebrew/Caskroom/miniforge/base/envs/data-science/lib/python3.12/site-packages (from ipython>=4.0.0->ipywidgets<8,>=7->mols2grid) (2.17.2)\n",
      "Requirement already satisfied: stack-data in /opt/homebrew/Caskroom/miniforge/base/envs/data-science/lib/python3.12/site-packages (from ipython>=4.0.0->ipywidgets<8,>=7->mols2grid) (0.6.2)\n",
      "Requirement already satisfied: pexpect>4.3 in /opt/homebrew/Caskroom/miniforge/base/envs/data-science/lib/python3.12/site-packages (from ipython>=4.0.0->ipywidgets<8,>=7->mols2grid) (4.9.0)\n",
      "Requirement already satisfied: notebook>=4.4.1 in /opt/homebrew/Caskroom/miniforge/base/envs/data-science/lib/python3.12/site-packages (from widgetsnbextension~=3.6.6->ipywidgets<8,>=7->mols2grid) (7.1.2)\n",
      "Requirement already satisfied: requests-oauthlib>=0.7.0 in /opt/homebrew/Caskroom/miniforge/base/envs/data-science/lib/python3.12/site-packages (from google-auth-oauthlib->gcsfs>=2021.9->molfeat) (1.3.1)\n",
      "Requirement already satisfied: google-api-core!=2.0.*,!=2.1.*,!=2.2.*,!=2.3.0,<3.0.0dev,>=1.31.5 in /opt/homebrew/Caskroom/miniforge/base/envs/data-science/lib/python3.12/site-packages (from google-cloud-storage->gcsfs>=2021.9->molfeat) (2.17.1)\n",
      "Requirement already satisfied: google-cloud-core<3.0dev,>=2.3.0 in /opt/homebrew/Caskroom/miniforge/base/envs/data-science/lib/python3.12/site-packages (from google-cloud-storage->gcsfs>=2021.9->molfeat) (2.4.1)\n",
      "Requirement already satisfied: google-resumable-media>=2.6.0 in /opt/homebrew/Caskroom/miniforge/base/envs/data-science/lib/python3.12/site-packages (from google-cloud-storage->gcsfs>=2021.9->molfeat) (2.7.0)\n",
      "Requirement already satisfied: google-crc32c<2.0dev,>=1.0 in /opt/homebrew/Caskroom/miniforge/base/envs/data-science/lib/python3.12/site-packages (from google-cloud-storage->gcsfs>=2021.9->molfeat) (1.5.0)\n",
      "Requirement already satisfied: mpmath>=0.19 in /opt/homebrew/Caskroom/miniforge/base/envs/data-science/lib/python3.12/site-packages (from sympy->torch>=1.13->molfeat) (1.3.0)\n",
      "Requirement already satisfied: jmespath<2.0.0,>=0.7.1 in /opt/homebrew/Caskroom/miniforge/base/envs/data-science/lib/python3.12/site-packages (from botocore<1.31.65,>=1.31.16->aiobotocore~=2.7.0->s3fs>=2021.9->molfeat) (1.0.1)\n",
      "Requirement already satisfied: googleapis-common-protos<2.0.dev0,>=1.56.2 in /opt/homebrew/Caskroom/miniforge/base/envs/data-science/lib/python3.12/site-packages (from google-api-core!=2.0.*,!=2.1.*,!=2.2.*,!=2.3.0,<3.0.0dev,>=1.31.5->google-cloud-storage->gcsfs>=2021.9->molfeat) (1.62.0)\n",
      "Requirement already satisfied: protobuf!=3.20.0,!=3.20.1,!=4.21.0,!=4.21.1,!=4.21.2,!=4.21.3,!=4.21.4,!=4.21.5,<5.0.0.dev0,>=3.19.5 in /opt/homebrew/Caskroom/miniforge/base/envs/data-science/lib/python3.12/site-packages (from google-api-core!=2.0.*,!=2.1.*,!=2.2.*,!=2.3.0,<3.0.0dev,>=1.31.5->google-cloud-storage->gcsfs>=2021.9->molfeat) (4.25.3)\n",
      "Requirement already satisfied: parso<0.9.0,>=0.8.3 in /opt/homebrew/Caskroom/miniforge/base/envs/data-science/lib/python3.12/site-packages (from jedi>=0.16->ipython>=4.0.0->ipywidgets<8,>=7->mols2grid) (0.8.3)\n",
      "Requirement already satisfied: jupyter-server<3,>=2.4.0 in /opt/homebrew/Caskroom/miniforge/base/envs/data-science/lib/python3.12/site-packages (from notebook>=4.4.1->widgetsnbextension~=3.6.6->ipywidgets<8,>=7->mols2grid) (2.12.5)\n",
      "Requirement already satisfied: jupyterlab-server<3,>=2.22.1 in /opt/homebrew/Caskroom/miniforge/base/envs/data-science/lib/python3.12/site-packages (from notebook>=4.4.1->widgetsnbextension~=3.6.6->ipywidgets<8,>=7->mols2grid) (2.25.3)\n",
      "Requirement already satisfied: jupyterlab<4.2,>=4.1.1 in /opt/homebrew/Caskroom/miniforge/base/envs/data-science/lib/python3.12/site-packages (from notebook>=4.4.1->widgetsnbextension~=3.6.6->ipywidgets<8,>=7->mols2grid) (4.1.1)\n",
      "Requirement already satisfied: notebook-shim<0.3,>=0.2 in /opt/homebrew/Caskroom/miniforge/base/envs/data-science/lib/python3.12/site-packages (from notebook>=4.4.1->widgetsnbextension~=3.6.6->ipywidgets<8,>=7->mols2grid) (0.2.4)\n",
      "Requirement already satisfied: tornado>=6.2.0 in /opt/homebrew/Caskroom/miniforge/base/envs/data-science/lib/python3.12/site-packages (from notebook>=4.4.1->widgetsnbextension~=3.6.6->ipywidgets<8,>=7->mols2grid) (6.3.3)\n",
      "Requirement already satisfied: ptyprocess>=0.5 in /opt/homebrew/Caskroom/miniforge/base/envs/data-science/lib/python3.12/site-packages (from pexpect>4.3->ipython>=4.0.0->ipywidgets<8,>=7->mols2grid) (0.7.0)\n",
      "Requirement already satisfied: wcwidth in /opt/homebrew/Caskroom/miniforge/base/envs/data-science/lib/python3.12/site-packages (from prompt-toolkit<3.1.0,>=3.0.41->ipython>=4.0.0->ipywidgets<8,>=7->mols2grid) (0.2.13)\n",
      "Requirement already satisfied: pyasn1<0.6.0,>=0.4.6 in /opt/homebrew/Caskroom/miniforge/base/envs/data-science/lib/python3.12/site-packages (from pyasn1-modules>=0.2.1->google-auth>=1.2->gcsfs>=2021.9->molfeat) (0.5.1)\n",
      "Requirement already satisfied: oauthlib>=3.0.0 in /opt/homebrew/Caskroom/miniforge/base/envs/data-science/lib/python3.12/site-packages (from requests-oauthlib>=0.7.0->google-auth-oauthlib->gcsfs>=2021.9->molfeat) (3.2.2)\n",
      "Requirement already satisfied: executing>=1.2.0 in /opt/homebrew/Caskroom/miniforge/base/envs/data-science/lib/python3.12/site-packages (from stack-data->ipython>=4.0.0->ipywidgets<8,>=7->mols2grid) (2.0.1)\n",
      "Requirement already satisfied: asttokens>=2.1.0 in /opt/homebrew/Caskroom/miniforge/base/envs/data-science/lib/python3.12/site-packages (from stack-data->ipython>=4.0.0->ipywidgets<8,>=7->mols2grid) (2.4.1)\n",
      "Requirement already satisfied: pure-eval in /opt/homebrew/Caskroom/miniforge/base/envs/data-science/lib/python3.12/site-packages (from stack-data->ipython>=4.0.0->ipywidgets<8,>=7->mols2grid) (0.2.2)\n",
      "Requirement already satisfied: anyio>=3.1.0 in /opt/homebrew/Caskroom/miniforge/base/envs/data-science/lib/python3.12/site-packages (from jupyter-server<3,>=2.4.0->notebook>=4.4.1->widgetsnbextension~=3.6.6->ipywidgets<8,>=7->mols2grid) (4.2.0)\n",
      "Requirement already satisfied: argon2-cffi in /opt/homebrew/Caskroom/miniforge/base/envs/data-science/lib/python3.12/site-packages (from jupyter-server<3,>=2.4.0->notebook>=4.4.1->widgetsnbextension~=3.6.6->ipywidgets<8,>=7->mols2grid) (23.1.0)\n",
      "Requirement already satisfied: jupyter-client>=7.4.4 in /opt/homebrew/Caskroom/miniforge/base/envs/data-science/lib/python3.12/site-packages (from jupyter-server<3,>=2.4.0->notebook>=4.4.1->widgetsnbextension~=3.6.6->ipywidgets<8,>=7->mols2grid) (8.6.0)\n",
      "Requirement already satisfied: jupyter-core!=5.0.*,>=4.12 in /opt/homebrew/Caskroom/miniforge/base/envs/data-science/lib/python3.12/site-packages (from jupyter-server<3,>=2.4.0->notebook>=4.4.1->widgetsnbextension~=3.6.6->ipywidgets<8,>=7->mols2grid) (5.7.1)\n",
      "Requirement already satisfied: jupyter-events>=0.9.0 in /opt/homebrew/Caskroom/miniforge/base/envs/data-science/lib/python3.12/site-packages (from jupyter-server<3,>=2.4.0->notebook>=4.4.1->widgetsnbextension~=3.6.6->ipywidgets<8,>=7->mols2grid) (0.9.0)\n",
      "Requirement already satisfied: jupyter-server-terminals in /opt/homebrew/Caskroom/miniforge/base/envs/data-science/lib/python3.12/site-packages (from jupyter-server<3,>=2.4.0->notebook>=4.4.1->widgetsnbextension~=3.6.6->ipywidgets<8,>=7->mols2grid) (0.5.2)\n",
      "Requirement already satisfied: nbconvert>=6.4.4 in /opt/homebrew/Caskroom/miniforge/base/envs/data-science/lib/python3.12/site-packages (from jupyter-server<3,>=2.4.0->notebook>=4.4.1->widgetsnbextension~=3.6.6->ipywidgets<8,>=7->mols2grid) (7.16.0)\n",
      "Requirement already satisfied: nbformat>=5.3.0 in /opt/homebrew/Caskroom/miniforge/base/envs/data-science/lib/python3.12/site-packages (from jupyter-server<3,>=2.4.0->notebook>=4.4.1->widgetsnbextension~=3.6.6->ipywidgets<8,>=7->mols2grid) (5.9.2)\n",
      "Requirement already satisfied: overrides in /opt/homebrew/Caskroom/miniforge/base/envs/data-science/lib/python3.12/site-packages (from jupyter-server<3,>=2.4.0->notebook>=4.4.1->widgetsnbextension~=3.6.6->ipywidgets<8,>=7->mols2grid) (7.7.0)\n",
      "Requirement already satisfied: prometheus-client in /opt/homebrew/Caskroom/miniforge/base/envs/data-science/lib/python3.12/site-packages (from jupyter-server<3,>=2.4.0->notebook>=4.4.1->widgetsnbextension~=3.6.6->ipywidgets<8,>=7->mols2grid) (0.20.0)\n",
      "Requirement already satisfied: pyzmq>=24 in /opt/homebrew/Caskroom/miniforge/base/envs/data-science/lib/python3.12/site-packages (from jupyter-server<3,>=2.4.0->notebook>=4.4.1->widgetsnbextension~=3.6.6->ipywidgets<8,>=7->mols2grid) (25.1.2)\n",
      "Requirement already satisfied: send2trash>=1.8.2 in /opt/homebrew/Caskroom/miniforge/base/envs/data-science/lib/python3.12/site-packages (from jupyter-server<3,>=2.4.0->notebook>=4.4.1->widgetsnbextension~=3.6.6->ipywidgets<8,>=7->mols2grid) (1.8.2)\n",
      "Requirement already satisfied: terminado>=0.8.3 in /opt/homebrew/Caskroom/miniforge/base/envs/data-science/lib/python3.12/site-packages (from jupyter-server<3,>=2.4.0->notebook>=4.4.1->widgetsnbextension~=3.6.6->ipywidgets<8,>=7->mols2grid) (0.18.0)\n",
      "Requirement already satisfied: websocket-client in /opt/homebrew/Caskroom/miniforge/base/envs/data-science/lib/python3.12/site-packages (from jupyter-server<3,>=2.4.0->notebook>=4.4.1->widgetsnbextension~=3.6.6->ipywidgets<8,>=7->mols2grid) (1.7.0)\n",
      "Requirement already satisfied: async-lru>=1.0.0 in /opt/homebrew/Caskroom/miniforge/base/envs/data-science/lib/python3.12/site-packages (from jupyterlab<4.2,>=4.1.1->notebook>=4.4.1->widgetsnbextension~=3.6.6->ipywidgets<8,>=7->mols2grid) (2.0.4)\n",
      "Requirement already satisfied: httpx>=0.25.0 in /opt/homebrew/Caskroom/miniforge/base/envs/data-science/lib/python3.12/site-packages (from jupyterlab<4.2,>=4.1.1->notebook>=4.4.1->widgetsnbextension~=3.6.6->ipywidgets<8,>=7->mols2grid) (0.26.0)\n",
      "Requirement already satisfied: ipykernel in /opt/homebrew/Caskroom/miniforge/base/envs/data-science/lib/python3.12/site-packages (from jupyterlab<4.2,>=4.1.1->notebook>=4.4.1->widgetsnbextension~=3.6.6->ipywidgets<8,>=7->mols2grid) (6.28.0)\n",
      "Requirement already satisfied: jupyter-lsp>=2.0.0 in /opt/homebrew/Caskroom/miniforge/base/envs/data-science/lib/python3.12/site-packages (from jupyterlab<4.2,>=4.1.1->notebook>=4.4.1->widgetsnbextension~=3.6.6->ipywidgets<8,>=7->mols2grid) (2.2.2)\n",
      "Requirement already satisfied: babel>=2.10 in /opt/homebrew/Caskroom/miniforge/base/envs/data-science/lib/python3.12/site-packages (from jupyterlab-server<3,>=2.22.1->notebook>=4.4.1->widgetsnbextension~=3.6.6->ipywidgets<8,>=7->mols2grid) (2.14.0)\n",
      "Requirement already satisfied: json5>=0.9.0 in /opt/homebrew/Caskroom/miniforge/base/envs/data-science/lib/python3.12/site-packages (from jupyterlab-server<3,>=2.22.1->notebook>=4.4.1->widgetsnbextension~=3.6.6->ipywidgets<8,>=7->mols2grid) (0.9.14)\n",
      "Requirement already satisfied: jsonschema>=4.18.0 in /opt/homebrew/Caskroom/miniforge/base/envs/data-science/lib/python3.12/site-packages (from jupyterlab-server<3,>=2.22.1->notebook>=4.4.1->widgetsnbextension~=3.6.6->ipywidgets<8,>=7->mols2grid) (4.21.1)\n",
      "Requirement already satisfied: sniffio>=1.1 in /opt/homebrew/Caskroom/miniforge/base/envs/data-science/lib/python3.12/site-packages (from anyio>=3.1.0->jupyter-server<3,>=2.4.0->notebook>=4.4.1->widgetsnbextension~=3.6.6->ipywidgets<8,>=7->mols2grid) (1.3.0)\n",
      "Requirement already satisfied: httpcore==1.* in /opt/homebrew/Caskroom/miniforge/base/envs/data-science/lib/python3.12/site-packages (from httpx>=0.25.0->jupyterlab<4.2,>=4.1.1->notebook>=4.4.1->widgetsnbextension~=3.6.6->ipywidgets<8,>=7->mols2grid) (1.0.3)\n",
      "Requirement already satisfied: h11<0.15,>=0.13 in /opt/homebrew/Caskroom/miniforge/base/envs/data-science/lib/python3.12/site-packages (from httpcore==1.*->httpx>=0.25.0->jupyterlab<4.2,>=4.1.1->notebook>=4.4.1->widgetsnbextension~=3.6.6->ipywidgets<8,>=7->mols2grid) (0.14.0)\n",
      "Requirement already satisfied: jsonschema-specifications>=2023.03.6 in /opt/homebrew/Caskroom/miniforge/base/envs/data-science/lib/python3.12/site-packages (from jsonschema>=4.18.0->jupyterlab-server<3,>=2.22.1->notebook>=4.4.1->widgetsnbextension~=3.6.6->ipywidgets<8,>=7->mols2grid) (2023.12.1)\n",
      "Requirement already satisfied: referencing>=0.28.4 in /opt/homebrew/Caskroom/miniforge/base/envs/data-science/lib/python3.12/site-packages (from jsonschema>=4.18.0->jupyterlab-server<3,>=2.22.1->notebook>=4.4.1->widgetsnbextension~=3.6.6->ipywidgets<8,>=7->mols2grid) (0.33.0)\n",
      "Requirement already satisfied: rpds-py>=0.7.1 in /opt/homebrew/Caskroom/miniforge/base/envs/data-science/lib/python3.12/site-packages (from jsonschema>=4.18.0->jupyterlab-server<3,>=2.22.1->notebook>=4.4.1->widgetsnbextension~=3.6.6->ipywidgets<8,>=7->mols2grid) (0.18.0)\n",
      "Requirement already satisfied: python-json-logger>=2.0.4 in /opt/homebrew/Caskroom/miniforge/base/envs/data-science/lib/python3.12/site-packages (from jupyter-events>=0.9.0->jupyter-server<3,>=2.4.0->notebook>=4.4.1->widgetsnbextension~=3.6.6->ipywidgets<8,>=7->mols2grid) (2.0.7)\n",
      "Requirement already satisfied: rfc3339-validator in /opt/homebrew/Caskroom/miniforge/base/envs/data-science/lib/python3.12/site-packages (from jupyter-events>=0.9.0->jupyter-server<3,>=2.4.0->notebook>=4.4.1->widgetsnbextension~=3.6.6->ipywidgets<8,>=7->mols2grid) (0.1.4)\n",
      "Requirement already satisfied: rfc3986-validator>=0.1.1 in /opt/homebrew/Caskroom/miniforge/base/envs/data-science/lib/python3.12/site-packages (from jupyter-events>=0.9.0->jupyter-server<3,>=2.4.0->notebook>=4.4.1->widgetsnbextension~=3.6.6->ipywidgets<8,>=7->mols2grid) (0.1.1)\n",
      "Requirement already satisfied: beautifulsoup4 in /opt/homebrew/Caskroom/miniforge/base/envs/data-science/lib/python3.12/site-packages (from nbconvert>=6.4.4->jupyter-server<3,>=2.4.0->notebook>=4.4.1->widgetsnbextension~=3.6.6->ipywidgets<8,>=7->mols2grid) (4.12.3)\n",
      "Requirement already satisfied: bleach!=5.0.0 in /opt/homebrew/Caskroom/miniforge/base/envs/data-science/lib/python3.12/site-packages (from nbconvert>=6.4.4->jupyter-server<3,>=2.4.0->notebook>=4.4.1->widgetsnbextension~=3.6.6->ipywidgets<8,>=7->mols2grid) (6.1.0)\n",
      "Requirement already satisfied: defusedxml in /opt/homebrew/Caskroom/miniforge/base/envs/data-science/lib/python3.12/site-packages (from nbconvert>=6.4.4->jupyter-server<3,>=2.4.0->notebook>=4.4.1->widgetsnbextension~=3.6.6->ipywidgets<8,>=7->mols2grid) (0.7.1)\n",
      "Requirement already satisfied: jupyterlab-pygments in /opt/homebrew/Caskroom/miniforge/base/envs/data-science/lib/python3.12/site-packages (from nbconvert>=6.4.4->jupyter-server<3,>=2.4.0->notebook>=4.4.1->widgetsnbextension~=3.6.6->ipywidgets<8,>=7->mols2grid) (0.3.0)\n",
      "Requirement already satisfied: mistune<4,>=2.0.3 in /opt/homebrew/Caskroom/miniforge/base/envs/data-science/lib/python3.12/site-packages (from nbconvert>=6.4.4->jupyter-server<3,>=2.4.0->notebook>=4.4.1->widgetsnbextension~=3.6.6->ipywidgets<8,>=7->mols2grid) (3.0.2)\n",
      "Requirement already satisfied: nbclient>=0.5.0 in /opt/homebrew/Caskroom/miniforge/base/envs/data-science/lib/python3.12/site-packages (from nbconvert>=6.4.4->jupyter-server<3,>=2.4.0->notebook>=4.4.1->widgetsnbextension~=3.6.6->ipywidgets<8,>=7->mols2grid) (0.8.0)\n",
      "Requirement already satisfied: pandocfilters>=1.4.1 in /opt/homebrew/Caskroom/miniforge/base/envs/data-science/lib/python3.12/site-packages (from nbconvert>=6.4.4->jupyter-server<3,>=2.4.0->notebook>=4.4.1->widgetsnbextension~=3.6.6->ipywidgets<8,>=7->mols2grid) (1.5.0)\n",
      "Requirement already satisfied: tinycss2 in /opt/homebrew/Caskroom/miniforge/base/envs/data-science/lib/python3.12/site-packages (from nbconvert>=6.4.4->jupyter-server<3,>=2.4.0->notebook>=4.4.1->widgetsnbextension~=3.6.6->ipywidgets<8,>=7->mols2grid) (1.2.1)\n",
      "Requirement already satisfied: fastjsonschema in /opt/homebrew/Caskroom/miniforge/base/envs/data-science/lib/python3.12/site-packages (from nbformat>=5.3.0->jupyter-server<3,>=2.4.0->notebook>=4.4.1->widgetsnbextension~=3.6.6->ipywidgets<8,>=7->mols2grid) (2.19.1)\n",
      "Requirement already satisfied: argon2-cffi-bindings in /opt/homebrew/Caskroom/miniforge/base/envs/data-science/lib/python3.12/site-packages (from argon2-cffi->jupyter-server<3,>=2.4.0->notebook>=4.4.1->widgetsnbextension~=3.6.6->ipywidgets<8,>=7->mols2grid) (21.2.0)\n",
      "Requirement already satisfied: appnope in /opt/homebrew/Caskroom/miniforge/base/envs/data-science/lib/python3.12/site-packages (from ipykernel->jupyterlab<4.2,>=4.1.1->notebook>=4.4.1->widgetsnbextension~=3.6.6->ipywidgets<8,>=7->mols2grid) (0.1.4)\n",
      "Requirement already satisfied: debugpy>=1.6.5 in /opt/homebrew/Caskroom/miniforge/base/envs/data-science/lib/python3.12/site-packages (from ipykernel->jupyterlab<4.2,>=4.1.1->notebook>=4.4.1->widgetsnbextension~=3.6.6->ipywidgets<8,>=7->mols2grid) (1.8.1)\n",
      "Requirement already satisfied: nest-asyncio in /opt/homebrew/Caskroom/miniforge/base/envs/data-science/lib/python3.12/site-packages (from ipykernel->jupyterlab<4.2,>=4.1.1->notebook>=4.4.1->widgetsnbextension~=3.6.6->ipywidgets<8,>=7->mols2grid) (1.6.0)\n",
      "Requirement already satisfied: psutil in /opt/homebrew/Caskroom/miniforge/base/envs/data-science/lib/python3.12/site-packages (from ipykernel->jupyterlab<4.2,>=4.1.1->notebook>=4.4.1->widgetsnbextension~=3.6.6->ipywidgets<8,>=7->mols2grid) (5.9.8)\n",
      "Requirement already satisfied: webencodings in /opt/homebrew/Caskroom/miniforge/base/envs/data-science/lib/python3.12/site-packages (from bleach!=5.0.0->nbconvert>=6.4.4->jupyter-server<3,>=2.4.0->notebook>=4.4.1->widgetsnbextension~=3.6.6->ipywidgets<8,>=7->mols2grid) (0.5.1)\n",
      "Requirement already satisfied: fqdn in /opt/homebrew/Caskroom/miniforge/base/envs/data-science/lib/python3.12/site-packages (from jsonschema[format-nongpl]>=4.18.0->jupyter-events>=0.9.0->jupyter-server<3,>=2.4.0->notebook>=4.4.1->widgetsnbextension~=3.6.6->ipywidgets<8,>=7->mols2grid) (1.5.1)\n",
      "Requirement already satisfied: isoduration in /opt/homebrew/Caskroom/miniforge/base/envs/data-science/lib/python3.12/site-packages (from jsonschema[format-nongpl]>=4.18.0->jupyter-events>=0.9.0->jupyter-server<3,>=2.4.0->notebook>=4.4.1->widgetsnbextension~=3.6.6->ipywidgets<8,>=7->mols2grid) (20.11.0)\n",
      "Requirement already satisfied: jsonpointer>1.13 in /opt/homebrew/Caskroom/miniforge/base/envs/data-science/lib/python3.12/site-packages (from jsonschema[format-nongpl]>=4.18.0->jupyter-events>=0.9.0->jupyter-server<3,>=2.4.0->notebook>=4.4.1->widgetsnbextension~=3.6.6->ipywidgets<8,>=7->mols2grid) (2.4)\n",
      "Requirement already satisfied: uri-template in /opt/homebrew/Caskroom/miniforge/base/envs/data-science/lib/python3.12/site-packages (from jsonschema[format-nongpl]>=4.18.0->jupyter-events>=0.9.0->jupyter-server<3,>=2.4.0->notebook>=4.4.1->widgetsnbextension~=3.6.6->ipywidgets<8,>=7->mols2grid) (1.3.0)\n",
      "Requirement already satisfied: webcolors>=1.11 in /opt/homebrew/Caskroom/miniforge/base/envs/data-science/lib/python3.12/site-packages (from jsonschema[format-nongpl]>=4.18.0->jupyter-events>=0.9.0->jupyter-server<3,>=2.4.0->notebook>=4.4.1->widgetsnbextension~=3.6.6->ipywidgets<8,>=7->mols2grid) (1.13)\n",
      "Requirement already satisfied: cffi>=1.0.1 in /opt/homebrew/Caskroom/miniforge/base/envs/data-science/lib/python3.12/site-packages (from argon2-cffi-bindings->argon2-cffi->jupyter-server<3,>=2.4.0->notebook>=4.4.1->widgetsnbextension~=3.6.6->ipywidgets<8,>=7->mols2grid) (1.16.0)\n",
      "Requirement already satisfied: soupsieve>1.2 in /opt/homebrew/Caskroom/miniforge/base/envs/data-science/lib/python3.12/site-packages (from beautifulsoup4->nbconvert>=6.4.4->jupyter-server<3,>=2.4.0->notebook>=4.4.1->widgetsnbextension~=3.6.6->ipywidgets<8,>=7->mols2grid) (2.5)\n",
      "Requirement already satisfied: pycparser in /opt/homebrew/Caskroom/miniforge/base/envs/data-science/lib/python3.12/site-packages (from cffi>=1.0.1->argon2-cffi-bindings->argon2-cffi->jupyter-server<3,>=2.4.0->notebook>=4.4.1->widgetsnbextension~=3.6.6->ipywidgets<8,>=7->mols2grid) (2.21)\n",
      "Requirement already satisfied: arrow>=0.15.0 in /opt/homebrew/Caskroom/miniforge/base/envs/data-science/lib/python3.12/site-packages (from isoduration->jsonschema[format-nongpl]>=4.18.0->jupyter-events>=0.9.0->jupyter-server<3,>=2.4.0->notebook>=4.4.1->widgetsnbextension~=3.6.6->ipywidgets<8,>=7->mols2grid) (1.3.0)\n",
      "Requirement already satisfied: types-python-dateutil>=2.8.10 in /opt/homebrew/Caskroom/miniforge/base/envs/data-science/lib/python3.12/site-packages (from arrow>=0.15.0->isoduration->jsonschema[format-nongpl]>=4.18.0->jupyter-events>=0.9.0->jupyter-server<3,>=2.4.0->notebook>=4.4.1->widgetsnbextension~=3.6.6->ipywidgets<8,>=7->mols2grid) (2.8.19.20240106)\n",
      "Note: you may need to restart the kernel to use updated packages.\n"
     ]
    }
   ],
   "source": [
    "%pip install pinecone-client datasets PyTDC rdkit datamol pandas numpy molfeat mols2grid\n"
   ]
  },
  {
   "cell_type": "code",
   "execution_count": 2,
   "id": "66914ecd-5e9e-4577-a297-0faf4bef54b5",
   "metadata": {},
   "outputs": [
    {
     "name": "stderr",
     "output_type": "stream",
     "text": [
      "Failed to find the pandas get_adjustment() function to patch\n",
      "Failed to patch pandas - PandasTools will have limited functionality\n"
     ]
    }
   ],
   "source": [
    "import tqdm\n",
    "import pandas as pd\n",
    "import numpy as np\n",
    "import itertools\n",
    "from tdc.generation import MolGen\n",
    "from pinecone import Pinecone, ServerlessSpec\n",
    "import datamol as dm\n",
    "import molfeat\n",
    "from molfeat.calc import FPCalculator, RDKitDescriptors2D\n",
    "from molfeat.trans import MoleculeTransformer\n",
    "from molfeat.store.modelstore import ModelStore\n",
    "from molfeat.trans.pretrained import PretrainedMolTransformer, GraphormerTransformer\n",
    "import mols2grid\n"
   ]
  },
  {
   "cell_type": "markdown",
   "id": "8d7297f4-6b9f-463d-94ce-4db27b2bad83",
   "metadata": {
    "jp-MarkdownHeadingCollapsed": true
   },
   "source": [
    "## Load data"
   ]
  },
  {
   "cell_type": "code",
   "execution_count": null,
   "id": "4557d076-ed03-4765-bf53-d63bb69e285f",
   "metadata": {},
   "outputs": [],
   "source": [
    "from tdc.generation import MolGen\n",
    "data = MolGen(name = 'ZINC')\n",
    "split = data.get_split() "
   ]
  },
  {
   "cell_type": "code",
   "execution_count": null,
   "id": "67ff3006-e0b8-41fc-b679-9989400d9b59",
   "metadata": {},
   "outputs": [],
   "source": [
    "mols = dm.convert.from_df(split['test'])"
   ]
  },
  {
   "cell_type": "markdown",
   "id": "73ffbb19-b870-4e88-9d5d-345f63aee862",
   "metadata": {
    "jp-MarkdownHeadingCollapsed": true
   },
   "source": [
    "## Featurize"
   ]
  },
  {
   "cell_type": "code",
   "execution_count": null,
   "id": "fc75a475",
   "metadata": {},
   "outputs": [],
   "source": [
    "mols"
   ]
  },
  {
   "cell_type": "code",
   "execution_count": null,
   "id": "73c2d4e3",
   "metadata": {},
   "outputs": [],
   "source": []
  },
  {
   "cell_type": "code",
   "execution_count": null,
   "id": "9e34e5c3-13be-4efa-963b-831c5374a7a2",
   "metadata": {},
   "outputs": [],
   "source": [
    "df = dm.descriptors.batch_compute_many_descriptors(mols, properties_fn=None, add_properties=True, n_jobs=-1, batch_size='auto', progress=False, progress_leave=True)"
   ]
  },
  {
   "cell_type": "code",
   "execution_count": null,
   "id": "ad1a507d",
   "metadata": {},
   "outputs": [],
   "source": [
    "df['mols'] = mols"
   ]
  },
  {
   "cell_type": "code",
   "execution_count": null,
   "id": "78034502",
   "metadata": {},
   "outputs": [],
   "source": [
    "df['mol_id'] = [f'Molecule {i}' for i, _ in enumerate(df.mw)]"
   ]
  },
  {
   "cell_type": "code",
   "execution_count": null,
   "id": "599379ed-9508-4eca-af22-6aba43c83204",
   "metadata": {},
   "outputs": [],
   "source": [
    "# # List all available featurizers\n",
    "store = ModelStore()\n",
    "store.available_models\n",
    "model_card = store.search(name='pcqm4mv2_graphormer_base')[0]"
   ]
  },
  {
   "cell_type": "code",
   "execution_count": null,
   "id": "e589894c-a1f8-4847-8330-5520496b09e3",
   "metadata": {
    "collapsed": true,
    "jupyter": {
     "outputs_hidden": true
    }
   },
   "outputs": [],
   "source": [
    "store.available_models"
   ]
  },
  {
   "cell_type": "code",
   "execution_count": null,
   "id": "6f6b68de-f5b9-4a52-b511-bfe332eb010f",
   "metadata": {},
   "outputs": [],
   "source": [
    "# featurizer = GraphormerTransformer(kind='pcqm4mv2_graphormer_base', dtype=np.float32, pooling='mean', max_length=None, concat_layers=-1, ignore_padding=True, version=None)\n",
    "featurizer = PretrainedMolTransformer(kind='ChemGPT-1.2B', dtype=np.float32, pooling='mean', max_length=None, concat_layers=-1, ignore_padding=True, version=None)"
   ]
  },
  {
   "cell_type": "code",
   "execution_count": null,
   "id": "8cd544c0-9a1a-442d-bc85-1b2f6f4a72ce",
   "metadata": {},
   "outputs": [],
   "source": [
    "# calc = FPCalculator(\"ecfp\")\n",
    "calc = RDKitDescriptors2D(replace_nan=True)\n"
   ]
  },
  {
   "cell_type": "code",
   "execution_count": null,
   "id": "2b52ecc6-0b5d-4924-b439-9ea8d690bc36",
   "metadata": {
    "scrolled": true
   },
   "outputs": [],
   "source": [
    "featurizer = MoleculeTransformer(calc, dtype=np.float32)\n",
    "\n",
    "with dm.without_rdkit_log():\n",
    "    feats = np.stack(featurizer(mols[:100]))\n",
    "\n",
    "feats.shape"
   ]
  },
  {
   "cell_type": "code",
   "execution_count": null,
   "id": "ca0cf155-6f11-4947-8247-372f21fa3c8b",
   "metadata": {},
   "outputs": [],
   "source": [
    "feats"
   ]
  },
  {
   "cell_type": "markdown",
   "id": "0e85e55d-64af-4f57-9144-ad668d5ed38e",
   "metadata": {
    "jp-MarkdownHeadingCollapsed": true
   },
   "source": [
    "## Configure Pinecone index"
   ]
  },
  {
   "cell_type": "code",
   "execution_count": 3,
   "id": "f14935e1-2451-4cf8-8897-83237b83616b",
   "metadata": {},
   "outputs": [
    {
     "ename": "PineconeConfigurationError",
     "evalue": "You haven't specified an Api-Key.",
     "output_type": "error",
     "traceback": [
      "\u001b[0;31m---------------------------------------------------------------------------\u001b[0m",
      "\u001b[0;31mPineconeConfigurationError\u001b[0m                Traceback (most recent call last)",
      "Cell \u001b[0;32mIn[3], line 1\u001b[0m\n\u001b[0;32m----> 1\u001b[0m pc \u001b[38;5;241m=\u001b[39m \u001b[43mPinecone\u001b[49m\u001b[43m(\u001b[49m\u001b[43mapi_key\u001b[49m\u001b[38;5;241;43m=\u001b[39;49m\u001b[38;5;124;43m\"\u001b[39;49m\u001b[38;5;124;43m\"\u001b[39;49m\u001b[43m)\u001b[49m\n",
      "File \u001b[0;32m/opt/homebrew/Caskroom/miniforge/base/envs/data-science/lib/python3.12/site-packages/pinecone/control/pinecone.py:95\u001b[0m, in \u001b[0;36mPinecone.__init__\u001b[0;34m(self, api_key, host, config, additional_headers, pool_threads, index_api, **kwargs)\u001b[0m\n\u001b[1;32m     93\u001b[0m         \u001b[38;5;28mself\u001b[39m\u001b[38;5;241m.\u001b[39mconfig \u001b[38;5;241m=\u001b[39m configKwarg\n\u001b[1;32m     94\u001b[0m \u001b[38;5;28;01melse\u001b[39;00m:\n\u001b[0;32m---> 95\u001b[0m     \u001b[38;5;28mself\u001b[39m\u001b[38;5;241m.\u001b[39mconfig \u001b[38;5;241m=\u001b[39m \u001b[43mPineconeConfig\u001b[49m\u001b[38;5;241;43m.\u001b[39;49m\u001b[43mbuild\u001b[49m\u001b[43m(\u001b[49m\u001b[43mapi_key\u001b[49m\u001b[38;5;241;43m=\u001b[39;49m\u001b[43mapi_key\u001b[49m\u001b[43m,\u001b[49m\u001b[43m \u001b[49m\u001b[43mhost\u001b[49m\u001b[38;5;241;43m=\u001b[39;49m\u001b[43mhost\u001b[49m\u001b[43m,\u001b[49m\u001b[43m \u001b[49m\u001b[43madditional_headers\u001b[49m\u001b[38;5;241;43m=\u001b[39;49m\u001b[43madditional_headers\u001b[49m\u001b[43m,\u001b[49m\u001b[43m \u001b[49m\u001b[38;5;241;43m*\u001b[39;49m\u001b[38;5;241;43m*\u001b[39;49m\u001b[43mkwargs\u001b[49m\u001b[43m)\u001b[49m\n\u001b[1;32m     97\u001b[0m \u001b[38;5;28mself\u001b[39m\u001b[38;5;241m.\u001b[39mpool_threads \u001b[38;5;241m=\u001b[39m pool_threads\n\u001b[1;32m     98\u001b[0m \u001b[38;5;28;01mif\u001b[39;00m index_api:\n",
      "File \u001b[0;32m/opt/homebrew/Caskroom/miniforge/base/envs/data-science/lib/python3.12/site-packages/pinecone/config/pinecone_config.py:24\u001b[0m, in \u001b[0;36mPineconeConfig.build\u001b[0;34m(api_key, host, additional_headers, **kwargs)\u001b[0m\n\u001b[1;32m     21\u001b[0m   \u001b[38;5;28;01mexcept\u001b[39;00m \u001b[38;5;167;01mException\u001b[39;00m \u001b[38;5;28;01mas\u001b[39;00m e:\n\u001b[1;32m     22\u001b[0m     logger\u001b[38;5;241m.\u001b[39mwarn(\u001b[38;5;124mf\u001b[39m\u001b[38;5;124m'\u001b[39m\u001b[38;5;124mIgnoring PINECONE_ADDITIONAL_HEADERS: \u001b[39m\u001b[38;5;132;01m{\u001b[39;00me\u001b[38;5;132;01m}\u001b[39;00m\u001b[38;5;124m'\u001b[39m)\n\u001b[0;32m---> 24\u001b[0m \u001b[38;5;28;01mreturn\u001b[39;00m \u001b[43mConfigBuilder\u001b[49m\u001b[38;5;241;43m.\u001b[39;49m\u001b[43mbuild\u001b[49m\u001b[43m(\u001b[49m\u001b[43mapi_key\u001b[49m\u001b[38;5;241;43m=\u001b[39;49m\u001b[43mapi_key\u001b[49m\u001b[43m,\u001b[49m\u001b[43m \u001b[49m\u001b[43mhost\u001b[49m\u001b[38;5;241;43m=\u001b[39;49m\u001b[43mhost\u001b[49m\u001b[43m,\u001b[49m\u001b[43m \u001b[49m\u001b[43madditional_headers\u001b[49m\u001b[38;5;241;43m=\u001b[39;49m\u001b[43madditional_headers\u001b[49m\u001b[43m,\u001b[49m\u001b[43m \u001b[49m\u001b[38;5;241;43m*\u001b[39;49m\u001b[38;5;241;43m*\u001b[39;49m\u001b[43mkwargs\u001b[49m\u001b[43m)\u001b[49m\n",
      "File \u001b[0;32m/opt/homebrew/Caskroom/miniforge/base/envs/data-science/lib/python3.12/site-packages/pinecone/config/config.py:45\u001b[0m, in \u001b[0;36mConfigBuilder.build\u001b[0;34m(api_key, host, openapi_config, additional_headers, **kwargs)\u001b[0m\n\u001b[1;32m     42\u001b[0m host \u001b[38;5;241m=\u001b[39m normalize_host(host)\n\u001b[1;32m     44\u001b[0m \u001b[38;5;28;01mif\u001b[39;00m \u001b[38;5;129;01mnot\u001b[39;00m api_key:\n\u001b[0;32m---> 45\u001b[0m     \u001b[38;5;28;01mraise\u001b[39;00m PineconeConfigurationError(\u001b[38;5;124m\"\u001b[39m\u001b[38;5;124mYou haven\u001b[39m\u001b[38;5;124m'\u001b[39m\u001b[38;5;124mt specified an Api-Key.\u001b[39m\u001b[38;5;124m\"\u001b[39m)\n\u001b[1;32m     46\u001b[0m \u001b[38;5;28;01mif\u001b[39;00m \u001b[38;5;129;01mnot\u001b[39;00m host:\n\u001b[1;32m     47\u001b[0m     \u001b[38;5;28;01mraise\u001b[39;00m PineconeConfigurationError(\u001b[38;5;124m\"\u001b[39m\u001b[38;5;124mYou haven\u001b[39m\u001b[38;5;124m'\u001b[39m\u001b[38;5;124mt specified a host.\u001b[39m\u001b[38;5;124m\"\u001b[39m)\n",
      "\u001b[0;31mPineconeConfigurationError\u001b[0m: You haven't specified an Api-Key."
     ]
    }
   ],
   "source": [
    "pc = Pinecone(api_key=\"\")"
   ]
  },
  {
   "cell_type": "code",
   "execution_count": null,
   "id": "8a3c6215-a352-4cb7-8c01-dfdfcb7cc39b",
   "metadata": {},
   "outputs": [],
   "source": [
    "index = pc.Index('molsearch')"
   ]
  },
  {
   "cell_type": "markdown",
   "id": "fb9bd92c-c20c-446a-90b7-1967dea3f189",
   "metadata": {},
   "source": [
    "### Upsert vectors"
   ]
  },
  {
   "cell_type": "code",
   "execution_count": null,
   "id": "f714db36",
   "metadata": {},
   "outputs": [],
   "source": [
    "id_list = [f'Molecule {i}' for i, _ in enumerate(feats)]"
   ]
  },
  {
   "cell_type": "code",
   "execution_count": null,
   "id": "5d8335bd",
   "metadata": {},
   "outputs": [],
   "source": [
    "payload = zip(id_list, feats)"
   ]
  },
  {
   "cell_type": "code",
   "execution_count": null,
   "id": "3bebe243-a139-4d85-ab3f-bc6308840df8",
   "metadata": {},
   "outputs": [],
   "source": [
    "def chunks(iterable, batch_size=100):\n",
    "    \"\"\"A helper function to break an iterable into chunks of size batch_size.\"\"\"\n",
    "    it = iter(iterable)\n",
    "    chunk = tuple(itertools.islice(it, batch_size))\n",
    "    while chunk:\n",
    "        yield chunk\n",
    "        chunk = tuple(itertools.islice(it, batch_size))"
   ]
  },
  {
   "cell_type": "code",
   "execution_count": null,
   "id": "9166b8b4-b825-4d4f-bc16-cbebb5b5c96d",
   "metadata": {},
   "outputs": [],
   "source": [
    "for ids_vectors_chunk in chunks(payload, batch_size=10):\n",
    "    index.upsert(vectors=ids_vectors_chunk) "
   ]
  },
  {
   "cell_type": "markdown",
   "id": "68fd0d3d-6de0-47fe-980a-236ef29219ec",
   "metadata": {
    "jp-MarkdownHeadingCollapsed": true
   },
   "source": [
    "## Similarity search"
   ]
  },
  {
   "cell_type": "code",
   "execution_count": null,
   "id": "f4e75188-e0c2-457b-85a5-d929100c1b10",
   "metadata": {},
   "outputs": [],
   "source": [
    "## Get 101st molecule and search"
   ]
  },
  {
   "cell_type": "code",
   "execution_count": null,
   "id": "26948d9d-5a49-4b72-8f77-b5938ac86038",
   "metadata": {},
   "outputs": [],
   "source": [
    "with dm.without_rdkit_log():\n",
    "    feats = np.stack(featurizer(mols[100]))\n"
   ]
  },
  {
   "cell_type": "code",
   "execution_count": null,
   "id": "74b6a639-6287-4bb3-815f-416f0812992c",
   "metadata": {},
   "outputs": [],
   "source": [
    "query_results = index.query(vector = feats.tolist()[0], top_k = 100)"
   ]
  },
  {
   "cell_type": "code",
   "execution_count": null,
   "id": "18848936-190a-4e6d-8b1d-7cec801961bf",
   "metadata": {},
   "outputs": [],
   "source": [
    "result_id = [query_results['matches'][id_no]['id'] for id_no in range(len(query_results['matches'])) ]"
   ]
  },
  {
   "cell_type": "code",
   "execution_count": null,
   "id": "9010c535",
   "metadata": {},
   "outputs": [],
   "source": [
    "len(result_id)"
   ]
  },
  {
   "cell_type": "markdown",
   "id": "5010024f",
   "metadata": {},
   "source": [
    "## Analyze hit similarity"
   ]
  },
  {
   "cell_type": "code",
   "execution_count": null,
   "id": "c1c630a6",
   "metadata": {},
   "outputs": [],
   "source": [
    "## Can estimate precision (> Tanimoto threshold in the returned set)\n",
    "## Recall (Tanimoto for all in the dataset and see if retrieved top 100)\n",
    "## Tanimoto as ground truth here\n"
   ]
  },
  {
   "cell_type": "code",
   "execution_count": null,
   "id": "c9f71748",
   "metadata": {},
   "outputs": [],
   "source": [
    "mols[100]"
   ]
  },
  {
   "cell_type": "code",
   "execution_count": null,
   "id": "2a05c1a7",
   "metadata": {},
   "outputs": [],
   "source": [
    "mols"
   ]
  },
  {
   "cell_type": "code",
   "execution_count": null,
   "id": "73e40f6a",
   "metadata": {},
   "outputs": [],
   "source": [
    "df_results = df[df['mol_id'].isin(result_id)]"
   ]
  },
  {
   "cell_type": "code",
   "execution_count": null,
   "id": "174f0a4b",
   "metadata": {},
   "outputs": [],
   "source": [
    "df_results"
   ]
  },
  {
   "cell_type": "code",
   "execution_count": null,
   "id": "685167b4",
   "metadata": {},
   "outputs": [],
   "source": [
    "mols2grid.display(df_results, mol_col = 'mols', subset = ['mol_id', 'img', 'n_heavy_atoms' ])"
   ]
  },
  {
   "cell_type": "code",
   "execution_count": null,
   "id": "3290418f",
   "metadata": {},
   "outputs": [],
   "source": []
  }
 ],
 "metadata": {
  "kernelspec": {
   "display_name": "data-science",
   "language": "python",
   "name": "python3"
  },
  "language_info": {
   "codemirror_mode": {
    "name": "ipython",
    "version": 3
   },
   "file_extension": ".py",
   "mimetype": "text/x-python",
   "name": "python",
   "nbconvert_exporter": "python",
   "pygments_lexer": "ipython3",
   "version": "3.12.1"
  }
 },
 "nbformat": 4,
 "nbformat_minor": 5
}
