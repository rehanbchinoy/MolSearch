{
 "cells": [
  {
   "cell_type": "markdown",
   "id": "19ba0ead-a81f-49ab-81b8-7de69a265d6e",
   "metadata": {
    "jp-MarkdownHeadingCollapsed": true
   },
   "source": [
    "## Imports"
   ]
  },
  {
   "cell_type": "code",
   "execution_count": null,
   "id": "beb994d3-d2d6-4a76-92f3-1e17a9edf1bf",
   "metadata": {
    "scrolled": true
   },
   "outputs": [],
   "source": [
    "%pip install pinecone-client datasets PyTDC rdkit datamol pandas numpy molfeat mols2grid\n"
   ]
  },
  {
   "cell_type": "code",
   "execution_count": null,
   "id": "66914ecd-5e9e-4577-a297-0faf4bef54b5",
   "metadata": {},
   "outputs": [],
   "source": [
    "import tqdm\n",
    "import pandas as pd\n",
    "import numpy as np\n",
    "import itertools\n",
    "from tdc.generation import MolGen\n",
    "from pinecone import Pinecone, ServerlessSpec\n",
    "import datamol as dm\n",
    "import molfeat\n",
    "from molfeat.calc import FPCalculator, RDKitDescriptors2D\n",
    "from molfeat.trans import MoleculeTransformer\n",
    "from molfeat.store.modelstore import ModelStore\n",
    "from molfeat.trans.pretrained import PretrainedMolTransformer, GraphormerTransformer\n",
    "import mols2grid\n"
   ]
  },
  {
   "cell_type": "markdown",
   "id": "8d7297f4-6b9f-463d-94ce-4db27b2bad83",
   "metadata": {
    "jp-MarkdownHeadingCollapsed": true
   },
   "source": [
    "## Load data"
   ]
  },
  {
   "cell_type": "code",
   "execution_count": null,
   "id": "4557d076-ed03-4765-bf53-d63bb69e285f",
   "metadata": {},
   "outputs": [],
   "source": [
    "from tdc.generation import MolGen\n",
    "data = MolGen(name = 'ZINC')\n",
    "split = data.get_split() "
   ]
  },
  {
   "cell_type": "code",
   "execution_count": null,
   "id": "67ff3006-e0b8-41fc-b679-9989400d9b59",
   "metadata": {},
   "outputs": [],
   "source": [
    "mols = dm.convert.from_df(split['test'])"
   ]
  },
  {
   "cell_type": "markdown",
   "id": "73ffbb19-b870-4e88-9d5d-345f63aee862",
   "metadata": {
    "jp-MarkdownHeadingCollapsed": true
   },
   "source": [
    "## Featurize"
   ]
  },
  {
   "cell_type": "code",
   "execution_count": null,
   "id": "9e34e5c3-13be-4efa-963b-831c5374a7a2",
   "metadata": {},
   "outputs": [],
   "source": [
    "df = dm.descriptors.batch_compute_many_descriptors(mols, properties_fn=None, add_properties=True, n_jobs=-1, batch_size='auto', progress=False, progress_leave=True)"
   ]
  },
  {
   "cell_type": "code",
   "execution_count": null,
   "id": "ad1a507d",
   "metadata": {},
   "outputs": [],
   "source": [
    "df['mols'] = mols"
   ]
  },
  {
   "cell_type": "code",
   "execution_count": null,
   "id": "78034502",
   "metadata": {},
   "outputs": [],
   "source": [
    "df['mol_id'] = [f'Molecule {i}' for i, _ in enumerate(df.mw)]"
   ]
  },
  {
   "cell_type": "code",
   "execution_count": null,
   "id": "599379ed-9508-4eca-af22-6aba43c83204",
   "metadata": {},
   "outputs": [],
   "source": [
    "# # List all available featurizers\n",
    "store = ModelStore()\n",
    "store.available_models\n",
    "model_card = store.search(name='pcqm4mv2_graphormer_base')[0]"
   ]
  },
  {
   "cell_type": "code",
   "execution_count": null,
   "id": "e589894c-a1f8-4847-8330-5520496b09e3",
   "metadata": {
    "collapsed": true,
    "jupyter": {
     "outputs_hidden": true
    }
   },
   "outputs": [],
   "source": [
    "store.available_models"
   ]
  },
  {
   "cell_type": "code",
   "execution_count": null,
   "id": "6f6b68de-f5b9-4a52-b511-bfe332eb010f",
   "metadata": {},
   "outputs": [],
   "source": [
    "# featurizer = GraphormerTransformer(kind='pcqm4mv2_graphormer_base', dtype=np.float32, pooling='mean', max_length=None, concat_layers=-1, ignore_padding=True, version=None)\n",
    "featurizer = PretrainedMolTransformer(kind='ChemGPT-1.2B', dtype=np.float32, pooling='mean', max_length=None, concat_layers=-1, ignore_padding=True, version=None)"
   ]
  },
  {
   "cell_type": "code",
   "execution_count": null,
   "id": "8cd544c0-9a1a-442d-bc85-1b2f6f4a72ce",
   "metadata": {},
   "outputs": [],
   "source": [
    "# calc = FPCalculator(\"ecfp\")\n",
    "calc = RDKitDescriptors2D(replace_nan=True)"
   ]
  },
  {
   "cell_type": "code",
   "execution_count": null,
   "id": "2b52ecc6-0b5d-4924-b439-9ea8d690bc36",
   "metadata": {
    "scrolled": true
   },
   "outputs": [],
   "source": [
    "featurizer = MoleculeTransformer(calc, dtype=np.float32)\n",
    "\n",
    "with dm.without_rdkit_log():\n",
    "    feats = np.stack(featurizer(mols[:100]))\n",
    "\n",
    "feats.shape"
   ]
  },
  {
   "cell_type": "markdown",
   "id": "0e85e55d-64af-4f57-9144-ad668d5ed38e",
   "metadata": {
    "jp-MarkdownHeadingCollapsed": true
   },
   "source": [
    "## Configure Pinecone index"
   ]
  },
  {
   "cell_type": "code",
   "execution_count": null,
   "id": "f14935e1-2451-4cf8-8897-83237b83616b",
   "metadata": {},
   "outputs": [],
   "source": [
    "pc = Pinecone(api_key= \"\")"
   ]
  },
  {
   "cell_type": "code",
   "execution_count": null,
   "id": "8a3c6215-a352-4cb7-8c01-dfdfcb7cc39b",
   "metadata": {},
   "outputs": [],
   "source": [
    "index = pc.Index('molsearch')"
   ]
  },
  {
   "cell_type": "markdown",
   "id": "fb9bd92c-c20c-446a-90b7-1967dea3f189",
   "metadata": {},
   "source": [
    "### Upsert vectors"
   ]
  },
  {
   "cell_type": "code",
   "execution_count": null,
   "id": "f714db36",
   "metadata": {},
   "outputs": [],
   "source": [
    "id_list = [f'Molecule {i}' for i, _ in enumerate(feats)]"
   ]
  },
  {
   "cell_type": "code",
   "execution_count": null,
   "id": "5d8335bd",
   "metadata": {},
   "outputs": [],
   "source": [
    "payload = zip(id_list, feats)"
   ]
  },
  {
   "cell_type": "code",
   "execution_count": null,
   "id": "3bebe243-a139-4d85-ab3f-bc6308840df8",
   "metadata": {},
   "outputs": [],
   "source": [
    "def chunks(iterable, batch_size=100):\n",
    "    \"\"\"A helper function to break an iterable into chunks of size batch_size.\"\"\"\n",
    "    it = iter(iterable)\n",
    "    chunk = tuple(itertools.islice(it, batch_size))\n",
    "    while chunk:\n",
    "        yield chunk\n",
    "        chunk = tuple(itertools.islice(it, batch_size))"
   ]
  },
  {
   "cell_type": "code",
   "execution_count": null,
   "id": "9166b8b4-b825-4d4f-bc16-cbebb5b5c96d",
   "metadata": {},
   "outputs": [],
   "source": [
    "for ids_vectors_chunk in chunks(payload, batch_size=10):\n",
    "    index.upsert(vectors=ids_vectors_chunk) "
   ]
  },
  {
   "cell_type": "markdown",
   "id": "68fd0d3d-6de0-47fe-980a-236ef29219ec",
   "metadata": {
    "jp-MarkdownHeadingCollapsed": true
   },
   "source": [
    "## Similarity search"
   ]
  },
  {
   "cell_type": "code",
   "execution_count": null,
   "id": "f4e75188-e0c2-457b-85a5-d929100c1b10",
   "metadata": {},
   "outputs": [],
   "source": [
    "## Get 101st molecule and search"
   ]
  },
  {
   "cell_type": "code",
   "execution_count": null,
   "id": "26948d9d-5a49-4b72-8f77-b5938ac86038",
   "metadata": {},
   "outputs": [],
   "source": [
    "with dm.without_rdkit_log():\n",
    "    feats = np.stack(featurizer(mols[100]))\n"
   ]
  },
  {
   "cell_type": "code",
   "execution_count": null,
   "id": "74b6a639-6287-4bb3-815f-416f0812992c",
   "metadata": {},
   "outputs": [],
   "source": [
    "query_results = index.query(vector = feats.tolist()[0], top_k = 100)"
   ]
  },
  {
   "cell_type": "code",
   "execution_count": null,
   "id": "18848936-190a-4e6d-8b1d-7cec801961bf",
   "metadata": {},
   "outputs": [],
   "source": [
    "result_id = [query_results['matches'][id_no]['id'] for id_no in range(len(query_results['matches'])) ]"
   ]
  },
  {
   "cell_type": "code",
   "execution_count": null,
   "id": "9010c535",
   "metadata": {},
   "outputs": [],
   "source": [
    "len(result_id)"
   ]
  },
  {
   "cell_type": "markdown",
   "id": "5010024f",
   "metadata": {},
   "source": [
    "## Analyze hit similarity"
   ]
  },
  {
   "cell_type": "code",
   "execution_count": null,
   "id": "c1c630a6",
   "metadata": {},
   "outputs": [],
   "source": [
    "## Can estimate precision (> Tanimoto threshold in the returned set)\n",
    "## Recall (Tanimoto for all in the dataset and see if retrieved top 100)\n",
    "## Tanimoto as ground truth here\n"
   ]
  },
  {
   "cell_type": "code",
   "execution_count": null,
   "id": "c9f71748",
   "metadata": {},
   "outputs": [],
   "source": [
    "mols[100]"
   ]
  },
  {
   "cell_type": "code",
   "execution_count": null,
   "id": "73e40f6a",
   "metadata": {},
   "outputs": [],
   "source": [
    "df_results = df[df['mol_id'].isin(result_id)]"
   ]
  },
  {
   "cell_type": "code",
   "execution_count": null,
   "id": "174f0a4b",
   "metadata": {},
   "outputs": [],
   "source": [
    "df_results"
   ]
  },
  {
   "cell_type": "code",
   "execution_count": null,
   "id": "685167b4",
   "metadata": {},
   "outputs": [],
   "source": [
    "mols2grid.display(df_results, mol_col = 'mols', subset = ['mol_id', 'img', 'n_heavy_atoms' ])"
   ]
  }
 ],
 "metadata": {
  "kernelspec": {
   "display_name": "data-science",
   "language": "python",
   "name": "python3"
  },
  "language_info": {
   "codemirror_mode": {
    "name": "ipython",
    "version": 3
   },
   "file_extension": ".py",
   "mimetype": "text/x-python",
   "name": "python",
   "nbconvert_exporter": "python",
   "pygments_lexer": "ipython3",
   "version": "3.12.1"
  }
 },
 "nbformat": 4,
 "nbformat_minor": 5
}
