{
 "cells": [
  {
   "cell_type": "markdown",
   "id": "19ba0ead-a81f-49ab-81b8-7de69a265d6e",
   "metadata": {
    "jp-MarkdownHeadingCollapsed": true
   },
   "source": [
    "## Imports"
   ]
  },
  {
   "cell_type": "code",
   "execution_count": null,
   "id": "beb994d3-d2d6-4a76-92f3-1e17a9edf1bf",
   "metadata": {
    "scrolled": true
   },
   "outputs": [],
   "source": [
    "%pip install pinecone-client datasets PyTDC rdkit datamol pandas numpy molfeat mols2grid tensorflow molecule_generation safe-mol"
   ]
  },
  {
   "cell_type": "code",
   "execution_count": null,
   "id": "7e330f09-ebe0-416d-9134-eff2bce4a2f9",
   "metadata": {},
   "outputs": [],
   "source": [
    "import tqdm\n",
    "import pandas as pd\n",
    "import numpy as np\n",
    "import seaborn as sns\n",
    "import matplotlib.pyplot as plt\n",
    "import itertools\n",
    "from tdc.generation import MolGen\n",
    "from pinecone import Pinecone, ServerlessSpec\n",
    "import datamol as dm\n",
    "from datamol.similarity import cdist\n",
    "import molfeat\n",
    "from molfeat.calc import FPCalculator, RDKitDescriptors2D\n",
    "from molfeat.trans import MoleculeTransformer\n",
    "from molfeat.store.modelstore import ModelStore\n",
    "from molfeat.trans.pretrained import PretrainedMolTransformer, GraphormerTransformer\n",
    "import mols2grid\n",
    "import rdkit\n",
    "from rdkit import Chem\n",
    "import tensorflow as tf\n",
    "import safe as sf\n",
    "\n",
    "from coati.generative.coati_purifications import embed_smiles\n",
    "from coati.models.io.coati import load_e3gnn_smiles_clip_e2e\n",
    "from coati.models.simple_coati2.io import load_coati2\n",
    "\n",
    "import sqlite3"
   ]
  },
  {
   "cell_type": "markdown",
   "id": "8d7297f4-6b9f-463d-94ce-4db27b2bad83",
   "metadata": {
    "jp-MarkdownHeadingCollapsed": true
   },
   "source": [
    "## Load data"
   ]
  },
  {
   "cell_type": "code",
   "execution_count": null,
   "id": "4557d076-ed03-4765-bf53-d63bb69e285f",
   "metadata": {},
   "outputs": [],
   "source": [
    "from tdc.generation import MolGen\n",
    "\n",
    "data = MolGen(name=\"ZINC\")\n",
    "split = data.get_split()"
   ]
  },
  {
   "cell_type": "markdown",
   "id": "28678c30-4b61-4b34-bd30-e1246fe38b37",
   "metadata": {},
   "source": [
    "## SQL database (in the future)"
   ]
  },
  {
   "cell_type": "code",
   "execution_count": 95,
   "id": "a6ba3d77-9a19-4bcf-b22a-3353c46fbeb7",
   "metadata": {},
   "outputs": [],
   "source": [
    "con = sqlite3.connect(\"molsearch.db\")"
   ]
  },
  {
   "cell_type": "code",
   "execution_count": 96,
   "id": "ba80e4ff-a41e-4da9-a6b1-e0ebcc20eab9",
   "metadata": {},
   "outputs": [],
   "source": [
    "cur = con.cursor()"
   ]
  },
  {
   "cell_type": "code",
   "execution_count": 106,
   "id": "448fe4b2-bd23-4cbf-ad43-d250a6a889d1",
   "metadata": {},
   "outputs": [],
   "source": [
    "df[\"smiles\"] = df[\"mols\"].apply(Chem.MolToSmiles)"
   ]
  },
  {
   "cell_type": "code",
   "execution_count": 112,
   "id": "00028315-2cf1-48e9-a455-ea6878d02898",
   "metadata": {},
   "outputs": [],
   "source": [
    "sql_df = df[[\"smiles\", \"mol_id\"]]"
   ]
  },
  {
   "cell_type": "code",
   "execution_count": null,
   "id": "dbff65bc-30ab-4d1c-aadf-4484b6d0edfb",
   "metadata": {},
   "outputs": [],
   "source": [
    "sql_df.to_sql(\"molecules\", con, if_exists=\"replace\", index=False)"
   ]
  },
  {
   "cell_type": "code",
   "execution_count": 117,
   "id": "95b550cd-f230-44c2-83f0-0a9010931474",
   "metadata": {},
   "outputs": [],
   "source": [
    "con.commit()"
   ]
  },
  {
   "cell_type": "code",
   "execution_count": null,
   "id": "623a25cb-fb07-4912-af21-277053a08724",
   "metadata": {},
   "outputs": [],
   "source": [
    "cur.execute(\"SELECT smiles FROM molecules LIMIT 10\")"
   ]
  },
  {
   "cell_type": "code",
   "execution_count": null,
   "id": "9fe2eaaf-4b03-4ae2-9d02-88546b880dae",
   "metadata": {},
   "outputs": [],
   "source": [
    "rows = cur.fetchall()\n",
    "\n",
    "# Print the results\n",
    "for row in rows:\n",
    "    print(row)"
   ]
  },
  {
   "cell_type": "code",
   "execution_count": 121,
   "id": "168433f4-59b5-4e46-a298-87cc8a28a5c2",
   "metadata": {},
   "outputs": [],
   "source": [
    "cur.close()\n",
    "con.close()"
   ]
  },
  {
   "cell_type": "markdown",
   "id": "442002d5-b043-4066-985c-9e6e46d50caf",
   "metadata": {},
   "source": [
    "## Generate test set\n",
    "(novel molecules similar to fentanyl)"
   ]
  },
  {
   "cell_type": "code",
   "execution_count": 29,
   "id": "e345f02e-02ac-4951-9359-79f9278212ec",
   "metadata": {},
   "outputs": [],
   "source": [
    "def compute_tanimoto(mol1, mol2):\n",
    "    mol1 = Chem.MolFromSmiles(mol1)\n",
    "    mol2 = Chem.MolFromSmiles(mol2)\n",
    "    x = 1 - cdist([mol1], [mol2])[0]\n",
    "    return x[0]"
   ]
  },
  {
   "cell_type": "code",
   "execution_count": 7,
   "id": "00a1955d-0423-4475-8a0c-5852677cdb3a",
   "metadata": {},
   "outputs": [],
   "source": [
    "# Function to run unconditional generation from a single SMILES\n",
    "def gen_mol(smiles, coati_version=1, num_variations=100, noise_scale=0.15):\n",
    "\n",
    "    # Embed the SMILES\n",
    "    smiles = Chem.CanonSmiles(smiles)\n",
    "    if coati_version == 1:\n",
    "        vector = embed_smiles(smiles, encoder1, tokenizer1)\n",
    "    elif coati_version == 2:\n",
    "        vector = embed_smiles(smiles, encoder2, tokenizer2)\n",
    "\n",
    "    # Noise is added as an isotropic Gaussian with std=noise_scale\n",
    "    if coati_version == 1:\n",
    "        nearby_smiles = encoder1.hclip_to_2d_batch(\n",
    "            h_clip=vector.unsqueeze(0).repeat(num_variations, 1),\n",
    "            tokenizer=tokenizer1,\n",
    "            noise_scale=noise_scale,\n",
    "        )\n",
    "    elif coati_version == 2:\n",
    "        nearby_smiles = encoder2.hcoati_to_2d_batch(\n",
    "            h_coati=vector.unsqueeze(0).repeat(num_variations, 1),\n",
    "            tokenizer=tokenizer2,\n",
    "            noise_scale=noise_scale,\n",
    "        )"
   ]
  },
  {
   "cell_type": "code",
   "execution_count": null,
   "id": "0df0429a-3de8-4259-9f5d-806f5c00c7ef",
   "metadata": {},
   "outputs": [],
   "source": [
    "# Model parameters are pulled from the url and stored in a local models/ dir.\n",
    "encoder, tokenizer = load_e3gnn_smiles_clip_e2e(\n",
    "    freeze=True,\n",
    "    # device=DEVICE,\n",
    "    # model parameters to load.\n",
    "    doc_url=\"s3://terray-public/models/e3gnn_smiles_clip_e2e_1685977071_1686087379.pkl\",\n",
    ")"
   ]
  },
  {
   "cell_type": "code",
   "execution_count": null,
   "id": "823e3487-ff2d-4cdc-a6ba-395a665d7b92",
   "metadata": {
    "collapsed": true,
    "jupyter": {
     "outputs_hidden": true
    }
   },
   "outputs": [],
   "source": [
    "from coati.generative.coati_purifications import embed_smiles\n",
    "\n",
    "# In this example, we use fentanyl as a reference molecule.\n",
    "fentanyl_smiles = \"CCC(=O)N(C1CCN(CC1)CCC2=CC=CC=C2)C3=CC=CC=C3\"\n",
    "print(\"reference molecule:\")\n",
    "display(Chem.MolFromSmiles(fentanyl_smiles))\n",
    "\n",
    "# We first convert the smiles to canonical smiles which is required by the model.\n",
    "fentanyl_canonical_smiles = Chem.MolToSmiles(Chem.MolFromSmiles(fentanyl_smiles))\n",
    "# We then embed the canonical smiles to a 256D vector using the model.\n",
    "fentanyl_vector = embed_smiles(fentanyl_canonical_smiles, encoder, tokenizer)\n",
    "\n",
    "# We then generate 30 molecules near fentanyl. We do this by adding noise to the\n",
    "# embedding vector which is then injected into the embed token in the prefix.\n",
    "# The generated molecules are decoded back to smiles.\n",
    "num_variations = 100\n",
    "# noise is added as an isotropic Gaussian with std=noise_scale.\n",
    "noise_scale = 0.35\n",
    "smiles_near_fentanyl = encoder.hclip_to_2d_batch(\n",
    "    h_clip=fentanyl_vector.unsqueeze(0).repeat(num_variations, 1),\n",
    "    tokenizer=tokenizer,\n",
    "    noise_scale=0.35,\n",
    ")\n",
    "\n",
    "# Visualize the generated molecules.\n",
    "# Note that generated molecules are not guaranteed to be valid.\n",
    "# Here we also use the set() function to remove duplicates.\n",
    "print(f\"Generated molecules (noise std={noise_scale}):\")\n",
    "display(\n",
    "    Chem.Draw.MolsToGridImage(\n",
    "        [\n",
    "            Chem.MolFromSmiles(s)\n",
    "            for s in set(smiles_near_fentanyl)\n",
    "            if not Chem.MolFromSmiles(s) is None\n",
    "        ],\n",
    "        molsPerRow=4,\n",
    "        useSVG=True,\n",
    "    )\n",
    ")"
   ]
  },
  {
   "cell_type": "code",
   "execution_count": 12,
   "id": "63725f30-cfb1-4f78-9175-415145979a9b",
   "metadata": {},
   "outputs": [],
   "source": [
    "valid_smiles = [\n",
    "    s for s in set(smiles_near_fentanyl) if not Chem.MolFromSmiles(s) is None\n",
    "]"
   ]
  },
  {
   "cell_type": "code",
   "execution_count": null,
   "id": "55e387e0-2c4f-4cb3-96cc-155ef922a285",
   "metadata": {},
   "outputs": [],
   "source": [
    "len(valid_smiles)"
   ]
  },
  {
   "cell_type": "code",
   "execution_count": null,
   "id": "5e4d3984-a9d9-4a29-b630-e0390000db3e",
   "metadata": {},
   "outputs": [],
   "source": [
    "valid_df = pd.DataFrame()\n",
    "\n",
    "valid_df[\"smiles\"] = valid_smiles"
   ]
  },
  {
   "cell_type": "code",
   "execution_count": 93,
   "id": "6bc2d211-ce87-41ae-9943-e98f51941e05",
   "metadata": {},
   "outputs": [],
   "source": [
    "df = df.reset_index(drop=True)"
   ]
  },
  {
   "cell_type": "code",
   "execution_count": null,
   "id": "8c77067d-3b0a-46bf-9d8f-8e22ec508cd4",
   "metadata": {},
   "outputs": [],
   "source": []
  },
  {
   "cell_type": "markdown",
   "id": "73ffbb19-b870-4e88-9d5d-345f63aee862",
   "metadata": {
    "jp-MarkdownHeadingCollapsed": true
   },
   "source": [
    "## Featurize"
   ]
  },
  {
   "cell_type": "code",
   "execution_count": 20,
   "id": "b30529b5-de69-4f74-b059-869e3d200cf9",
   "metadata": {},
   "outputs": [],
   "source": [
    "mols_fentanyl = dm.convert.from_df(valid_df)"
   ]
  },
  {
   "cell_type": "code",
   "execution_count": 27,
   "id": "67ff3006-e0b8-41fc-b679-9989400d9b59",
   "metadata": {},
   "outputs": [],
   "source": [
    "mols_zinc = dm.convert.from_df(split[\"test\"].iloc[:100])"
   ]
  },
  {
   "cell_type": "code",
   "execution_count": 32,
   "id": "9e34e5c3-13be-4efa-963b-831c5374a7a2",
   "metadata": {},
   "outputs": [],
   "source": [
    "df_fent = dm.descriptors.batch_compute_many_descriptors(\n",
    "    mols_fentanyl,\n",
    "    properties_fn=None,\n",
    "    add_properties=True,\n",
    "    n_jobs=-1,\n",
    "    batch_size=\"auto\",\n",
    "    progress=False,\n",
    "    progress_leave=True,\n",
    ")"
   ]
  },
  {
   "cell_type": "code",
   "execution_count": 35,
   "id": "ad1a507d",
   "metadata": {
    "scrolled": true
   },
   "outputs": [],
   "source": [
    "df_fent[\"mols\"] = mols_fentanyl"
   ]
  },
  {
   "cell_type": "code",
   "execution_count": 42,
   "id": "78034502",
   "metadata": {},
   "outputs": [],
   "source": [
    "df_fent[\"mol_id\"] = [f\"Fentanyl_Gen {i + 1}\" for i, _ in enumerate(df_fent.mw)]"
   ]
  },
  {
   "cell_type": "code",
   "execution_count": 37,
   "id": "3a6c5971-f487-4d8f-882b-8723d4580272",
   "metadata": {},
   "outputs": [],
   "source": [
    "df_zinc = dm.descriptors.batch_compute_many_descriptors(\n",
    "    mols_zinc,\n",
    "    properties_fn=None,\n",
    "    add_properties=True,\n",
    "    n_jobs=-1,\n",
    "    batch_size=\"auto\",\n",
    "    progress=False,\n",
    "    progress_leave=True,\n",
    ")"
   ]
  },
  {
   "cell_type": "code",
   "execution_count": 38,
   "id": "1a584c8f-166a-4ba6-b053-cd6b43ef3470",
   "metadata": {},
   "outputs": [],
   "source": [
    "df_zinc[\"mols\"] = mols_zinc"
   ]
  },
  {
   "cell_type": "code",
   "execution_count": 43,
   "id": "c9a4eb09-328c-4281-bf1d-4444508589fc",
   "metadata": {},
   "outputs": [],
   "source": [
    "df_zinc[\"mol_id\"] = [f\"ZINC {i + 1}\" for i, _ in enumerate(df_zinc.mw)]"
   ]
  },
  {
   "cell_type": "code",
   "execution_count": 45,
   "id": "6f6b68de-f5b9-4a52-b511-bfe332eb010f",
   "metadata": {},
   "outputs": [],
   "source": [
    "# featurizer = GraphormerTransformer(kind='pcqm4mv2_graphormer_base', dtype=np.float32, pooling='mean', max_length=None, concat_layers=-1, ignore_padding=True, version=None)\n",
    "featurizer = PretrainedMolTransformer(\n",
    "    kind=\"ChemGPT-1.2B\",\n",
    "    dtype=np.float32,\n",
    "    pooling=\"mean\",\n",
    "    max_length=None,\n",
    "    concat_layers=-1,\n",
    "    ignore_padding=True,\n",
    "    version=None,\n",
    ")"
   ]
  },
  {
   "cell_type": "code",
   "execution_count": 46,
   "id": "8cd544c0-9a1a-442d-bc85-1b2f6f4a72ce",
   "metadata": {},
   "outputs": [],
   "source": [
    "# calc = FPCalculator(\"ecfp\")\n",
    "calc = RDKitDescriptors2D(replace_nan=True)"
   ]
  },
  {
   "cell_type": "code",
   "execution_count": null,
   "id": "2b52ecc6-0b5d-4924-b439-9ea8d690bc36",
   "metadata": {
    "scrolled": true
   },
   "outputs": [],
   "source": [
    "featurizer = MoleculeTransformer(calc, dtype=np.float32)\n",
    "\n",
    "with dm.without_rdkit_log():\n",
    "    feats = np.stack(featurizer(mols_fentanyl))\n",
    "\n",
    "feats.shape"
   ]
  },
  {
   "cell_type": "code",
   "execution_count": null,
   "id": "acf7dc72-7118-4d66-8206-17e7130ea6cd",
   "metadata": {
    "scrolled": true
   },
   "outputs": [],
   "source": [
    "featurizer = MoleculeTransformer(calc, dtype=np.float32)\n",
    "\n",
    "with dm.without_rdkit_log():\n",
    "    feats = np.stack(featurizer(mols_zinc))\n",
    "\n",
    "feats.shape"
   ]
  },
  {
   "cell_type": "markdown",
   "id": "0e85e55d-64af-4f57-9144-ad668d5ed38e",
   "metadata": {
    "jp-MarkdownHeadingCollapsed": true
   },
   "source": [
    "## Configure Pinecone index"
   ]
  },
  {
   "cell_type": "code",
   "execution_count": 48,
   "id": "f14935e1-2451-4cf8-8897-83237b83616b",
   "metadata": {},
   "outputs": [],
   "source": [
    "pc = Pinecone(api_key=) ## supplied by Pinecone"
   ]
  },
  {
   "cell_type": "code",
   "execution_count": 49,
   "id": "8a3c6215-a352-4cb7-8c01-dfdfcb7cc39b",
   "metadata": {},
   "outputs": [],
   "source": [
    "index = pc.Index(\"molsearch\")  ## already created"
   ]
  },
  {
   "cell_type": "markdown",
   "id": "fb9bd92c-c20c-446a-90b7-1967dea3f189",
   "metadata": {},
   "source": [
    "### Upsert vectors"
   ]
  },
  {
   "cell_type": "code",
   "execution_count": null,
   "id": "3199da8c-7a80-4293-8e0d-15e30e8bed34",
   "metadata": {},
   "outputs": [],
   "source": [
    "id_list = [f\"Fentanyl_Gen {i + 1}\" for i, _ in enumerate(feats)]\n",
    "id_list = [f\"ZINC {i + 1}\" for i, _ in enumerate(feats)]"
   ]
  },
  {
   "cell_type": "code",
   "execution_count": 60,
   "id": "5d8335bd",
   "metadata": {},
   "outputs": [],
   "source": [
    "payload = zip(id_list, feats)"
   ]
  },
  {
   "cell_type": "code",
   "execution_count": 56,
   "id": "3bebe243-a139-4d85-ab3f-bc6308840df8",
   "metadata": {},
   "outputs": [],
   "source": [
    "def chunks(iterable, batch_size=100):\n",
    "    \"\"\"A helper function to break an iterable into chunks of size batch_size.\"\"\"\n",
    "    it = iter(iterable)\n",
    "    chunk = tuple(itertools.islice(it, batch_size))\n",
    "    while chunk:\n",
    "        yield chunk\n",
    "        chunk = tuple(itertools.islice(it, batch_size))"
   ]
  },
  {
   "cell_type": "code",
   "execution_count": 61,
   "id": "9166b8b4-b825-4d4f-bc16-cbebb5b5c96d",
   "metadata": {},
   "outputs": [],
   "source": [
    "for ids_vectors_chunk in chunks(payload, batch_size=10):\n",
    "    index.upsert(vectors=ids_vectors_chunk)"
   ]
  },
  {
   "cell_type": "markdown",
   "id": "68fd0d3d-6de0-47fe-980a-236ef29219ec",
   "metadata": {
    "jp-MarkdownHeadingCollapsed": true
   },
   "source": [
    "## Similarity search"
   ]
  },
  {
   "cell_type": "code",
   "execution_count": null,
   "id": "d5589556-fd39-4b90-9b12-314a1745ab60",
   "metadata": {},
   "outputs": [],
   "source": [
    "## Using fentanyl as query"
   ]
  },
  {
   "cell_type": "code",
   "execution_count": 62,
   "id": "26948d9d-5a49-4b72-8f77-b5938ac86038",
   "metadata": {},
   "outputs": [],
   "source": [
    "with dm.without_rdkit_log():\n",
    "    feats = np.stack(featurizer(Chem.MolFromSmiles(fentanyl_canonical_smiles)))"
   ]
  },
  {
   "cell_type": "code",
   "execution_count": 63,
   "id": "74b6a639-6287-4bb3-815f-416f0812992c",
   "metadata": {},
   "outputs": [],
   "source": [
    "query_results = index.query(vector=feats.tolist()[0], top_k=100)"
   ]
  },
  {
   "cell_type": "code",
   "execution_count": 64,
   "id": "18848936-190a-4e6d-8b1d-7cec801961bf",
   "metadata": {},
   "outputs": [],
   "source": [
    "result_id = [\n",
    "    query_results[\"matches\"][id_no][\"id\"]\n",
    "    for id_no in range(len(query_results[\"matches\"]))\n",
    "]"
   ]
  },
  {
   "cell_type": "markdown",
   "id": "5010024f",
   "metadata": {
    "jp-MarkdownHeadingCollapsed": true
   },
   "source": [
    "## Analyze hit similarity"
   ]
  },
  {
   "cell_type": "code",
   "execution_count": null,
   "id": "c1c630a6",
   "metadata": {},
   "outputs": [],
   "source": [
    "## Can estimate precision (> Tanimoto threshold in the returned set)\n",
    "## Recall (Tanimoto for all in the dataset and see if retrieved top 100)\n",
    "## Tanimoto as ground truth here"
   ]
  },
  {
   "cell_type": "code",
   "execution_count": 67,
   "id": "e2671a8b-a294-403e-b987-69599e46dda7",
   "metadata": {},
   "outputs": [],
   "source": [
    "def compute_tanimoto(mol1, mol2):\n",
    "    x = 1 - cdist([mol1], [mol2])[0]\n",
    "    return x[0]"
   ]
  },
  {
   "cell_type": "code",
   "execution_count": null,
   "id": "c9f71748",
   "metadata": {
    "scrolled": true
   },
   "outputs": [],
   "source": [
    "Chem.MolFromSmiles(fentanyl_canonical_smiles)"
   ]
  },
  {
   "cell_type": "code",
   "execution_count": 71,
   "id": "83c73eec-7668-4c8e-a103-50f4f5f7850f",
   "metadata": {},
   "outputs": [],
   "source": [
    "df = pd.concat([df_fent, df_zinc])"
   ]
  },
  {
   "cell_type": "code",
   "execution_count": 73,
   "id": "73e40f6a",
   "metadata": {},
   "outputs": [],
   "source": [
    "df_results = df[df[\"mol_id\"].isin(result_id)]"
   ]
  },
  {
   "cell_type": "code",
   "execution_count": 74,
   "id": "ae969750-7c84-43c6-bb6f-2b2c6c33d5db",
   "metadata": {},
   "outputs": [],
   "source": [
    "df_results[\"tanimoto\"] = df_results[\"mols\"].apply(\n",
    "    compute_tanimoto, args=(Chem.MolFromSmiles(fentanyl_canonical_smiles),)\n",
    ")"
   ]
  },
  {
   "cell_type": "code",
   "execution_count": 90,
   "id": "231ba148-0f2f-4db9-b8f4-0323fbd237c9",
   "metadata": {
    "scrolled": true
   },
   "outputs": [],
   "source": [
    "df_results = df_results.sort_values(by=\"tanimoto\", ascending=False)"
   ]
  },
  {
   "cell_type": "code",
   "execution_count": null,
   "id": "685167b4",
   "metadata": {},
   "outputs": [],
   "source": [
    "mols2grid.display(df_results, mol_col=\"mols\", subset=[\"mol_id\", \"img\", \"tanimoto\"])"
   ]
  },
  {
   "cell_type": "code",
   "execution_count": null,
   "id": "98aadb1b-b912-4467-933c-15f92087a7cc",
   "metadata": {},
   "outputs": [],
   "source": [
    "# Create a boxplot\n",
    "plt.figure(figsize=(8, 6))\n",
    "plt.boxplot(df_results[\"tanimoto\"])\n",
    "plt.title(\"Tanimoto distribution\")\n",
    "plt.ylabel(\"Tanimoto score\")\n",
    "plt.grid(True)\n",
    "plt.show()"
   ]
  },
  {
   "cell_type": "code",
   "execution_count": null,
   "id": "ee72920b-3683-46d7-82ee-6dbf99b981c7",
   "metadata": {},
   "outputs": [],
   "source": []
  }
 ],
 "metadata": {
  "kernelspec": {
   "display_name": "moler-env",
   "language": "python",
   "name": "python3"
  },
  "language_info": {
   "codemirror_mode": {
    "name": "ipython",
    "version": 3
   },
   "file_extension": ".py",
   "mimetype": "text/x-python",
   "name": "python",
   "nbconvert_exporter": "python",
   "pygments_lexer": "ipython3",
   "version": "3.10.8"
  }
 },
 "nbformat": 4,
 "nbformat_minor": 5
}
